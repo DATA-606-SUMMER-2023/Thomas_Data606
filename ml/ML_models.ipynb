{
 "cells": [
  {
   "cell_type": "markdown",
   "id": "51603ff4",
   "metadata": {},
   "source": [
    "# Machine Learning \n",
    "\n",
    "### Classification Models"
   ]
  },
  {
   "cell_type": "code",
   "execution_count": 1,
   "id": "0464a80a",
   "metadata": {},
   "outputs": [],
   "source": [
    "#Importing the packages\n",
    "import pandas as pd \n",
    "import numpy as np \n",
    "\n",
    "#Importing visualization tools\n",
    "import seaborn as sns \n",
    "import matplotlib.pyplot as plt\n",
    "import warnings\n",
    "warnings.filterwarnings(\"ignore\")"
   ]
  },
  {
   "cell_type": "code",
   "execution_count": 2,
   "id": "12df8e55",
   "metadata": {},
   "outputs": [
    {
     "data": {
      "text/html": [
       "<div>\n",
       "<style scoped>\n",
       "    .dataframe tbody tr th:only-of-type {\n",
       "        vertical-align: middle;\n",
       "    }\n",
       "\n",
       "    .dataframe tbody tr th {\n",
       "        vertical-align: top;\n",
       "    }\n",
       "\n",
       "    .dataframe thead th {\n",
       "        text-align: right;\n",
       "    }\n",
       "</style>\n",
       "<table border=\"1\" class=\"dataframe\">\n",
       "  <thead>\n",
       "    <tr style=\"text-align: right;\">\n",
       "      <th></th>\n",
       "      <th>YEAR</th>\n",
       "      <th>QUARTER</th>\n",
       "      <th>LIGHT_DESC</th>\n",
       "      <th>LIGHT_CODE</th>\n",
       "      <th>COUNTY_DESC</th>\n",
       "      <th>COUNTY_NO</th>\n",
       "      <th>MUNI_DESC</th>\n",
       "      <th>MUNI_CODE</th>\n",
       "      <th>JUNCTION_DESC</th>\n",
       "      <th>JUNCTION_CODE</th>\n",
       "      <th>...</th>\n",
       "      <th>FEET_MILES_FLAG_DESC</th>\n",
       "      <th>FEET_MILES_FLAG</th>\n",
       "      <th>DISTANCE_DIR_FLAG</th>\n",
       "      <th>REFERENCE_NO</th>\n",
       "      <th>REFERENCE_TYPE_CODE</th>\n",
       "      <th>REFERENCE_SUFFIX</th>\n",
       "      <th>REFERENCE_ROAD_NAME</th>\n",
       "      <th>LATITUDE</th>\n",
       "      <th>LONGITUDE</th>\n",
       "      <th>LOCATION</th>\n",
       "    </tr>\n",
       "  </thead>\n",
       "  <tbody>\n",
       "    <tr>\n",
       "      <th>135579</th>\n",
       "      <td>2021</td>\n",
       "      <td>Q2</td>\n",
       "      <td>NaN</td>\n",
       "      <td>6.02</td>\n",
       "      <td>Baltimore City</td>\n",
       "      <td>24.0</td>\n",
       "      <td>NaN</td>\n",
       "      <td>NaN</td>\n",
       "      <td>Intersection</td>\n",
       "      <td>2.0</td>\n",
       "      <td>...</td>\n",
       "      <td>Feet</td>\n",
       "      <td>F</td>\n",
       "      <td>W</td>\n",
       "      <td>NaN</td>\n",
       "      <td>NaN</td>\n",
       "      <td>NaN</td>\n",
       "      <td>800 BLK EDISON HWY</td>\n",
       "      <td>39.300286</td>\n",
       "      <td>-76.573002</td>\n",
       "      <td>POINT (-76.573002081417 39.300285541275)</td>\n",
       "    </tr>\n",
       "    <tr>\n",
       "      <th>144260</th>\n",
       "      <td>2021</td>\n",
       "      <td>Q2</td>\n",
       "      <td>Dark Lights On</td>\n",
       "      <td>3.00</td>\n",
       "      <td>Worcester</td>\n",
       "      <td>23.0</td>\n",
       "      <td>NaN</td>\n",
       "      <td>115.0</td>\n",
       "      <td>Intersection Related</td>\n",
       "      <td>3.0</td>\n",
       "      <td>...</td>\n",
       "      <td>Feet</td>\n",
       "      <td>F</td>\n",
       "      <td>S</td>\n",
       "      <td>9330.0</td>\n",
       "      <td>MU</td>\n",
       "      <td>NaN</td>\n",
       "      <td>62ND ST</td>\n",
       "      <td>38.384931</td>\n",
       "      <td>-75.066066</td>\n",
       "      <td>POINT (-75.066066433333 38.384930716667)</td>\n",
       "    </tr>\n",
       "    <tr>\n",
       "      <th>141211</th>\n",
       "      <td>2021</td>\n",
       "      <td>Q2</td>\n",
       "      <td>Daylight</td>\n",
       "      <td>1.00</td>\n",
       "      <td>Baltimore City</td>\n",
       "      <td>24.0</td>\n",
       "      <td>NaN</td>\n",
       "      <td>999.0</td>\n",
       "      <td>Non Intersection</td>\n",
       "      <td>1.0</td>\n",
       "      <td>...</td>\n",
       "      <td>Feet</td>\n",
       "      <td>F</td>\n",
       "      <td>W</td>\n",
       "      <td>1610.0</td>\n",
       "      <td>MU</td>\n",
       "      <td>NaN</td>\n",
       "      <td>MATHEWS ST</td>\n",
       "      <td>39.318289</td>\n",
       "      <td>-76.609001</td>\n",
       "      <td>POINT (-76.609000836938 39.318289399465)</td>\n",
       "    </tr>\n",
       "    <tr>\n",
       "      <th>147246</th>\n",
       "      <td>2021</td>\n",
       "      <td>Q3</td>\n",
       "      <td>NaN</td>\n",
       "      <td>5.02</td>\n",
       "      <td>Baltimore</td>\n",
       "      <td>3.0</td>\n",
       "      <td>NaN</td>\n",
       "      <td>0.0</td>\n",
       "      <td>Intersection</td>\n",
       "      <td>2.0</td>\n",
       "      <td>...</td>\n",
       "      <td>Feet</td>\n",
       "      <td>F</td>\n",
       "      <td>E</td>\n",
       "      <td>2050.0</td>\n",
       "      <td>CO</td>\n",
       "      <td>NaN</td>\n",
       "      <td>ROCKDALE TERR</td>\n",
       "      <td>39.352778</td>\n",
       "      <td>-76.755284</td>\n",
       "      <td>POINT (-76.75528374711 39.352778149591)</td>\n",
       "    </tr>\n",
       "    <tr>\n",
       "      <th>340489</th>\n",
       "      <td>2018</td>\n",
       "      <td>Q4</td>\n",
       "      <td>Daylight</td>\n",
       "      <td>1.00</td>\n",
       "      <td>Prince George's</td>\n",
       "      <td>16.0</td>\n",
       "      <td>NaN</td>\n",
       "      <td>0.0</td>\n",
       "      <td>Not Applicable</td>\n",
       "      <td>0.0</td>\n",
       "      <td>...</td>\n",
       "      <td>NaN</td>\n",
       "      <td>M</td>\n",
       "      <td>N</td>\n",
       "      <td>611.0</td>\n",
       "      <td>MU</td>\n",
       "      <td>NaN</td>\n",
       "      <td>EXCALIBUR RD</td>\n",
       "      <td>38.000000</td>\n",
       "      <td>-77.000000</td>\n",
       "      <td>POINT (-77 38)</td>\n",
       "    </tr>\n",
       "  </tbody>\n",
       "</table>\n",
       "<p>5 rows × 55 columns</p>\n",
       "</div>"
      ],
      "text/plain": [
       "        YEAR QUARTER      LIGHT_DESC  LIGHT_CODE      COUNTY_DESC  COUNTY_NO  \\\n",
       "135579  2021      Q2             NaN        6.02   Baltimore City       24.0   \n",
       "144260  2021      Q2  Dark Lights On        3.00        Worcester       23.0   \n",
       "141211  2021      Q2        Daylight        1.00   Baltimore City       24.0   \n",
       "147246  2021      Q3             NaN        5.02        Baltimore        3.0   \n",
       "340489  2018      Q4        Daylight        1.00  Prince George's       16.0   \n",
       "\n",
       "        MUNI_DESC  MUNI_CODE         JUNCTION_DESC  JUNCTION_CODE  ...  \\\n",
       "135579        NaN        NaN          Intersection            2.0  ...   \n",
       "144260        NaN      115.0  Intersection Related            3.0  ...   \n",
       "141211        NaN      999.0      Non Intersection            1.0  ...   \n",
       "147246        NaN        0.0          Intersection            2.0  ...   \n",
       "340489        NaN        0.0        Not Applicable            0.0  ...   \n",
       "\n",
       "       FEET_MILES_FLAG_DESC  FEET_MILES_FLAG DISTANCE_DIR_FLAG  REFERENCE_NO  \\\n",
       "135579                 Feet                F                 W           NaN   \n",
       "144260                 Feet                F                 S        9330.0   \n",
       "141211                 Feet                F                 W        1610.0   \n",
       "147246                 Feet                F                 E        2050.0   \n",
       "340489                  NaN                M                 N         611.0   \n",
       "\n",
       "        REFERENCE_TYPE_CODE REFERENCE_SUFFIX  REFERENCE_ROAD_NAME   LATITUDE  \\\n",
       "135579                  NaN              NaN   800 BLK EDISON HWY  39.300286   \n",
       "144260                   MU              NaN              62ND ST  38.384931   \n",
       "141211                   MU              NaN           MATHEWS ST  39.318289   \n",
       "147246                   CO              NaN        ROCKDALE TERR  39.352778   \n",
       "340489                   MU              NaN         EXCALIBUR RD  38.000000   \n",
       "\n",
       "        LONGITUDE                                  LOCATION  \n",
       "135579 -76.573002  POINT (-76.573002081417 39.300285541275)  \n",
       "144260 -75.066066  POINT (-75.066066433333 38.384930716667)  \n",
       "141211 -76.609001  POINT (-76.609000836938 39.318289399465)  \n",
       "147246 -76.755284   POINT (-76.75528374711 39.352778149591)  \n",
       "340489 -77.000000                            POINT (-77 38)  \n",
       "\n",
       "[5 rows x 55 columns]"
      ]
     },
     "execution_count": 2,
     "metadata": {},
     "output_type": "execute_result"
    }
   ],
   "source": [
    "#Loading in our dataset\n",
    "crash = pd.read_csv(\"Maryland_Statewide_Vehicle_Crashes.csv\")\n",
    "crash.sample(5)"
   ]
  },
  {
   "cell_type": "code",
   "execution_count": 3,
   "id": "fa12fa9b",
   "metadata": {},
   "outputs": [
    {
     "name": "stdout",
     "output_type": "stream",
     "text": [
      "<class 'pandas.core.frame.DataFrame'>\n",
      "RangeIndex: 878343 entries, 0 to 878342\n",
      "Data columns (total 55 columns):\n",
      " #   Column                 Non-Null Count   Dtype  \n",
      "---  ------                 --------------   -----  \n",
      " 0   YEAR                   878343 non-null  int64  \n",
      " 1   QUARTER                878343 non-null  object \n",
      " 2   LIGHT_DESC             841025 non-null  object \n",
      " 3   LIGHT_CODE             878343 non-null  float64\n",
      " 4   COUNTY_DESC            878329 non-null  object \n",
      " 5   COUNTY_NO              878329 non-null  float64\n",
      " 6   MUNI_DESC              0 non-null       float64\n",
      " 7   MUNI_CODE              659957 non-null  float64\n",
      " 8   JUNCTION_DESC          760119 non-null  object \n",
      " 9   JUNCTION_CODE          791512 non-null  float64\n",
      " 10  COLLISION_TYPE_DESC    878343 non-null  object \n",
      " 11  COLLISION_TYPE_CODE    878343 non-null  int64  \n",
      " 12  SURF_COND_DESC         789107 non-null  object \n",
      " 13  SURF_COND_CODE         791512 non-null  float64\n",
      " 14  LANE_CODE              668083 non-null  float64\n",
      " 15  RD_COND_DESC           791512 non-null  object \n",
      " 16  RD_COND_CODE           791512 non-null  float64\n",
      " 17  RD_DIV_DESC            786857 non-null  object \n",
      " 18  RD_DIV_CODE            791512 non-null  float64\n",
      " 19  FIX_OBJ_DESC           831232 non-null  object \n",
      " 20  FIX_OBJ_CODE           878343 non-null  float64\n",
      " 21  REPORT_NO              878343 non-null  object \n",
      " 22  REPORT_TYPE            767610 non-null  object \n",
      " 23  WEATHER_DESC           450477 non-null  object \n",
      " 24  WEATHER_CODE           878343 non-null  float64\n",
      " 25  ACC_DATE               878343 non-null  int64  \n",
      " 26  ACC_TIME               878343 non-null  object \n",
      " 27  LOC_CODE               401188 non-null  object \n",
      " 28  SIGNAL_FLAG_DESC       878343 non-null  object \n",
      " 29  SIGNAL_FLAG            878343 non-null  object \n",
      " 30  C_M_ZONE_FLAG          878343 non-null  object \n",
      " 31  AGENCY_CODE            878343 non-null  object \n",
      " 32  AREA_CODE              878343 non-null  object \n",
      " 33  HARM_EVENT_DESC1       282884 non-null  object \n",
      " 34  HARM_EVENT_CODE1       878343 non-null  float64\n",
      " 35  HARM_EVENT_DESC2       878343 non-null  object \n",
      " 36  HARM_EVENT_CODE2       878343 non-null  float64\n",
      " 37  RTE_NO                 702722 non-null  float64\n",
      " 38  ROUTE_TYPE_CODE        704483 non-null  object \n",
      " 39  RTE_SUFFIX             18031 non-null   object \n",
      " 40  LOG_MILE               788015 non-null  float64\n",
      " 41  LOGMILE_DIR_FLAG_DESC  707681 non-null  object \n",
      " 42  LOGMILE_DIR_FLAG       707699 non-null  object \n",
      " 43  MAINROAD_NAME          791503 non-null  object \n",
      " 44  DISTANCE               772976 non-null  float64\n",
      " 45  FEET_MILES_FLAG_DESC   299396 non-null  object \n",
      " 46  FEET_MILES_FLAG        791511 non-null  object \n",
      " 47  DISTANCE_DIR_FLAG      788134 non-null  object \n",
      " 48  REFERENCE_NO           695509 non-null  float64\n",
      " 49  REFERENCE_TYPE_CODE    704721 non-null  object \n",
      " 50  REFERENCE_SUFFIX       19077 non-null   object \n",
      " 51  REFERENCE_ROAD_NAME    790703 non-null  object \n",
      " 52  LATITUDE               878343 non-null  float64\n",
      " 53  LONGITUDE              878343 non-null  float64\n",
      " 54  LOCATION               878343 non-null  object \n",
      "dtypes: float64(19), int64(3), object(33)\n",
      "memory usage: 368.6+ MB\n"
     ]
    }
   ],
   "source": [
    "# Checking for information\n",
    "crash.info()"
   ]
  },
  {
   "cell_type": "code",
   "execution_count": 4,
   "id": "0ab6ee2d",
   "metadata": {},
   "outputs": [],
   "source": [
    "# Using specific columns from the original dataframe but making a new dataframe \n",
    "columns = ['COUNTY_DESC', 'YEAR', 'QUARTER', 'COLLISION_TYPE_DESC', 'RD_COND_DESC', 'RD_DIV_DESC', \n",
    "'LIGHT_DESC','SURF_COND_DESC','WEATHER_DESC', 'HARM_EVENT_DESC1', 'HARM_EVENT_DESC2', 'REPORT_TYPE', \n",
    "'FEET_MILES_FLAG_DESC', 'FIX_OBJ_DESC', 'ACC_DATE', 'ACC_TIME', 'SIGNAL_FLAG_DESC', 'C_M_ZONE_FLAG', \n",
    "'DISTANCE_DIR_FLAG', 'JUNCTION_DESC', 'LOG_MILE', 'LOGMILE_DIR_FLAG_DESC', 'DISTANCE', 'REFERENCE_ROAD_NAME']\n",
    "\n",
    "# Copying the columns into new dataframe \n",
    "df_crash = crash[columns].copy()"
   ]
  },
  {
   "cell_type": "code",
   "execution_count": 5,
   "id": "1b7d4adf",
   "metadata": {},
   "outputs": [],
   "source": [
    "# Joining fatal and injury together as severe crash since they are similar \n",
    "df_crash['REPORT_TYPE'] = df_crash['REPORT_TYPE'].replace({'Fatal Crash': 'Severe Crash', 'Injury Crash': 'Severe Crash'})"
   ]
  },
  {
   "cell_type": "code",
   "execution_count": 6,
   "id": "d52720e3",
   "metadata": {},
   "outputs": [],
   "source": [
    "# Dropping rows with nan in REPORT_TYPE \n",
    "df_crash = df_crash.dropna(subset=['REPORT_TYPE'])"
   ]
  },
  {
   "cell_type": "code",
   "execution_count": 7,
   "id": "94b74f25",
   "metadata": {},
   "outputs": [
    {
     "data": {
      "text/plain": [
       "Property Damage Crash    550429\n",
       "Severe Crash             217181\n",
       "Name: REPORT_TYPE, dtype: int64"
      ]
     },
     "execution_count": 7,
     "metadata": {},
     "output_type": "execute_result"
    }
   ],
   "source": [
    "# Checking the counts for all columns \n",
    "df_crash.REPORT_TYPE.value_counts()"
   ]
  },
  {
   "cell_type": "code",
   "execution_count": 8,
   "id": "c5b12eec",
   "metadata": {},
   "outputs": [
    {
     "data": {
      "text/html": [
       "<div>\n",
       "<style scoped>\n",
       "    .dataframe tbody tr th:only-of-type {\n",
       "        vertical-align: middle;\n",
       "    }\n",
       "\n",
       "    .dataframe tbody tr th {\n",
       "        vertical-align: top;\n",
       "    }\n",
       "\n",
       "    .dataframe thead th {\n",
       "        text-align: right;\n",
       "    }\n",
       "</style>\n",
       "<table border=\"1\" class=\"dataframe\">\n",
       "  <thead>\n",
       "    <tr style=\"text-align: right;\">\n",
       "      <th></th>\n",
       "      <th>COUNTY_DESC</th>\n",
       "      <th>YEAR</th>\n",
       "      <th>QUARTER</th>\n",
       "      <th>COLLISION_TYPE_DESC</th>\n",
       "      <th>RD_COND_DESC</th>\n",
       "      <th>RD_DIV_DESC</th>\n",
       "      <th>LIGHT_DESC</th>\n",
       "      <th>SURF_COND_DESC</th>\n",
       "      <th>WEATHER_DESC</th>\n",
       "      <th>HARM_EVENT_DESC1</th>\n",
       "      <th>...</th>\n",
       "      <th>ACC_DATE</th>\n",
       "      <th>ACC_TIME</th>\n",
       "      <th>SIGNAL_FLAG_DESC</th>\n",
       "      <th>C_M_ZONE_FLAG</th>\n",
       "      <th>DISTANCE_DIR_FLAG</th>\n",
       "      <th>JUNCTION_DESC</th>\n",
       "      <th>LOG_MILE</th>\n",
       "      <th>LOGMILE_DIR_FLAG_DESC</th>\n",
       "      <th>DISTANCE</th>\n",
       "      <th>REFERENCE_ROAD_NAME</th>\n",
       "    </tr>\n",
       "  </thead>\n",
       "  <tbody>\n",
       "    <tr>\n",
       "      <th>55332</th>\n",
       "      <td>Anne Arundel</td>\n",
       "      <td>2020</td>\n",
       "      <td>Q3</td>\n",
       "      <td>Same Direction Rear End</td>\n",
       "      <td>No Defects</td>\n",
       "      <td>Two-way, Not Divided</td>\n",
       "      <td>NaN</td>\n",
       "      <td>Wet</td>\n",
       "      <td>Raining</td>\n",
       "      <td>Other Vehicle</td>\n",
       "      <td>...</td>\n",
       "      <td>20200917</td>\n",
       "      <td>18:47:00</td>\n",
       "      <td>No</td>\n",
       "      <td>N</td>\n",
       "      <td>S</td>\n",
       "      <td>Intersection Related</td>\n",
       "      <td>6.210</td>\n",
       "      <td>North</td>\n",
       "      <td>25.0</td>\n",
       "      <td>ARMISTEAD ST</td>\n",
       "    </tr>\n",
       "    <tr>\n",
       "      <th>321483</th>\n",
       "      <td>Worcester</td>\n",
       "      <td>2019</td>\n",
       "      <td>Q3</td>\n",
       "      <td>Other</td>\n",
       "      <td>No Defects</td>\n",
       "      <td>One-way Trafficway</td>\n",
       "      <td>Daylight</td>\n",
       "      <td>Dry</td>\n",
       "      <td>NaN</td>\n",
       "      <td>NaN</td>\n",
       "      <td>...</td>\n",
       "      <td>20190904</td>\n",
       "      <td>14:22:00</td>\n",
       "      <td>No</td>\n",
       "      <td>N</td>\n",
       "      <td>S</td>\n",
       "      <td>Non Intersection</td>\n",
       "      <td>8.930</td>\n",
       "      <td>South</td>\n",
       "      <td>10.0</td>\n",
       "      <td>S DIVISION ST</td>\n",
       "    </tr>\n",
       "    <tr>\n",
       "      <th>409709</th>\n",
       "      <td>Queen Anne's</td>\n",
       "      <td>2019</td>\n",
       "      <td>Q3</td>\n",
       "      <td>Same Direction Sideswipe</td>\n",
       "      <td>No Defects</td>\n",
       "      <td>One-way Trafficway</td>\n",
       "      <td>Not Applicable</td>\n",
       "      <td>Dry</td>\n",
       "      <td>NaN</td>\n",
       "      <td>NaN</td>\n",
       "      <td>...</td>\n",
       "      <td>20190921</td>\n",
       "      <td>15:10:00</td>\n",
       "      <td>No</td>\n",
       "      <td>N</td>\n",
       "      <td>W</td>\n",
       "      <td>Non Intersection</td>\n",
       "      <td>2.581</td>\n",
       "      <td>East</td>\n",
       "      <td>10.0</td>\n",
       "      <td>MILE MARKER 37.0</td>\n",
       "    </tr>\n",
       "  </tbody>\n",
       "</table>\n",
       "<p>3 rows × 24 columns</p>\n",
       "</div>"
      ],
      "text/plain": [
       "         COUNTY_DESC  YEAR QUARTER       COLLISION_TYPE_DESC RD_COND_DESC  \\\n",
       "55332   Anne Arundel  2020      Q3   Same Direction Rear End   No Defects   \n",
       "321483     Worcester  2019      Q3                     Other   No Defects   \n",
       "409709  Queen Anne's  2019      Q3  Same Direction Sideswipe   No Defects   \n",
       "\n",
       "                 RD_DIV_DESC      LIGHT_DESC SURF_COND_DESC WEATHER_DESC  \\\n",
       "55332   Two-way, Not Divided             NaN            Wet      Raining   \n",
       "321483    One-way Trafficway        Daylight            Dry          NaN   \n",
       "409709    One-way Trafficway  Not Applicable            Dry          NaN   \n",
       "\n",
       "       HARM_EVENT_DESC1  ...  ACC_DATE  ACC_TIME SIGNAL_FLAG_DESC  \\\n",
       "55332     Other Vehicle  ...  20200917  18:47:00               No   \n",
       "321483              NaN  ...  20190904  14:22:00               No   \n",
       "409709              NaN  ...  20190921  15:10:00               No   \n",
       "\n",
       "       C_M_ZONE_FLAG  DISTANCE_DIR_FLAG         JUNCTION_DESC LOG_MILE  \\\n",
       "55332              N                  S  Intersection Related    6.210   \n",
       "321483             N                  S      Non Intersection    8.930   \n",
       "409709             N                  W      Non Intersection    2.581   \n",
       "\n",
       "       LOGMILE_DIR_FLAG_DESC DISTANCE REFERENCE_ROAD_NAME  \n",
       "55332                  North     25.0        ARMISTEAD ST  \n",
       "321483                 South     10.0       S DIVISION ST  \n",
       "409709                  East     10.0    MILE MARKER 37.0  \n",
       "\n",
       "[3 rows x 24 columns]"
      ]
     },
     "execution_count": 8,
     "metadata": {},
     "output_type": "execute_result"
    }
   ],
   "source": [
    "# Displaying the new dataframe \n",
    "df_crash.sample(3)"
   ]
  },
  {
   "cell_type": "code",
   "execution_count": 9,
   "id": "cf72b03f",
   "metadata": {},
   "outputs": [
    {
     "data": {
      "text/plain": [
       "COUNTY_DESC                  14\n",
       "YEAR                          0\n",
       "QUARTER                       0\n",
       "COLLISION_TYPE_DESC           0\n",
       "RD_COND_DESC              74158\n",
       "RD_DIV_DESC               78127\n",
       "LIGHT_DESC                29945\n",
       "SURF_COND_DESC            76110\n",
       "WEATHER_DESC             345004\n",
       "HARM_EVENT_DESC1         484726\n",
       "HARM_EVENT_DESC2              0\n",
       "REPORT_TYPE                   0\n",
       "FEET_MILES_FLAG_DESC     468214\n",
       "FIX_OBJ_DESC              41599\n",
       "ACC_DATE                      0\n",
       "ACC_TIME                      0\n",
       "SIGNAL_FLAG_DESC              0\n",
       "C_M_ZONE_FLAG                 0\n",
       "DISTANCE_DIR_FLAG         74158\n",
       "JUNCTION_DESC            100660\n",
       "LOG_MILE                  74159\n",
       "LOGMILE_DIR_FLAG_DESC    149460\n",
       "DISTANCE                  86823\n",
       "REFERENCE_ROAD_NAME       74932\n",
       "dtype: int64"
      ]
     },
     "execution_count": 9,
     "metadata": {},
     "output_type": "execute_result"
    }
   ],
   "source": [
    "# Checking for nulls \n",
    "df_crash.isnull().sum()"
   ]
  },
  {
   "cell_type": "code",
   "execution_count": 10,
   "id": "6ff7ba51",
   "metadata": {},
   "outputs": [
    {
     "data": {
      "text/html": [
       "<div>\n",
       "<style scoped>\n",
       "    .dataframe tbody tr th:only-of-type {\n",
       "        vertical-align: middle;\n",
       "    }\n",
       "\n",
       "    .dataframe tbody tr th {\n",
       "        vertical-align: top;\n",
       "    }\n",
       "\n",
       "    .dataframe thead th {\n",
       "        text-align: right;\n",
       "    }\n",
       "</style>\n",
       "<table border=\"1\" class=\"dataframe\">\n",
       "  <thead>\n",
       "    <tr style=\"text-align: right;\">\n",
       "      <th></th>\n",
       "      <th>COUNTY_DESC</th>\n",
       "      <th>YEAR</th>\n",
       "      <th>QUARTER</th>\n",
       "      <th>COLLISION_TYPE_DESC</th>\n",
       "      <th>RD_COND_DESC</th>\n",
       "      <th>RD_DIV_DESC</th>\n",
       "      <th>LIGHT_DESC</th>\n",
       "      <th>SURF_COND_DESC</th>\n",
       "      <th>WEATHER_DESC</th>\n",
       "      <th>HARM_EVENT_DESC1</th>\n",
       "      <th>...</th>\n",
       "      <th>ACC_DATE</th>\n",
       "      <th>ACC_TIME</th>\n",
       "      <th>SIGNAL_FLAG_DESC</th>\n",
       "      <th>C_M_ZONE_FLAG</th>\n",
       "      <th>DISTANCE_DIR_FLAG</th>\n",
       "      <th>JUNCTION_DESC</th>\n",
       "      <th>LOG_MILE</th>\n",
       "      <th>LOGMILE_DIR_FLAG_DESC</th>\n",
       "      <th>DISTANCE</th>\n",
       "      <th>REFERENCE_ROAD_NAME</th>\n",
       "    </tr>\n",
       "  </thead>\n",
       "  <tbody>\n",
       "    <tr>\n",
       "      <th>592987</th>\n",
       "      <td>Carroll</td>\n",
       "      <td>2019</td>\n",
       "      <td>Q3</td>\n",
       "      <td>Other</td>\n",
       "      <td>No Defects</td>\n",
       "      <td>Two-way, Not Divided</td>\n",
       "      <td>Unknown</td>\n",
       "      <td>Dry</td>\n",
       "      <td>Unknown</td>\n",
       "      <td>Unknown</td>\n",
       "      <td>...</td>\n",
       "      <td>20190904</td>\n",
       "      <td>06:03:00</td>\n",
       "      <td>No</td>\n",
       "      <td>N</td>\n",
       "      <td>W</td>\n",
       "      <td>Not Applicable</td>\n",
       "      <td>2.0</td>\n",
       "      <td>East</td>\n",
       "      <td>0.3</td>\n",
       "      <td>BUCHER JOHN RD</td>\n",
       "    </tr>\n",
       "    <tr>\n",
       "      <th>276155</th>\n",
       "      <td>Baltimore</td>\n",
       "      <td>2022</td>\n",
       "      <td>Q4</td>\n",
       "      <td>Same Direction Left Turn</td>\n",
       "      <td>No Defects</td>\n",
       "      <td>Two-way, Divided, Positive Median Barrier</td>\n",
       "      <td>Daylight</td>\n",
       "      <td>Wet</td>\n",
       "      <td>Raining</td>\n",
       "      <td>Other Vehicle</td>\n",
       "      <td>...</td>\n",
       "      <td>20221206</td>\n",
       "      <td>14:52:00</td>\n",
       "      <td>Yes</td>\n",
       "      <td>N</td>\n",
       "      <td>N</td>\n",
       "      <td>Intersection</td>\n",
       "      <td>1.04</td>\n",
       "      <td>North</td>\n",
       "      <td>0.0</td>\n",
       "      <td>TAYLOR AVE</td>\n",
       "    </tr>\n",
       "    <tr>\n",
       "      <th>512850</th>\n",
       "      <td>Baltimore</td>\n",
       "      <td>2017</td>\n",
       "      <td>Q3</td>\n",
       "      <td>Other</td>\n",
       "      <td>No Defects</td>\n",
       "      <td>Two-way, Not Divided</td>\n",
       "      <td>Dusk</td>\n",
       "      <td>Wet</td>\n",
       "      <td>Raining</td>\n",
       "      <td>Unknown</td>\n",
       "      <td>...</td>\n",
       "      <td>20170906</td>\n",
       "      <td>19:00:00</td>\n",
       "      <td>No</td>\n",
       "      <td>N</td>\n",
       "      <td>W</td>\n",
       "      <td>Non Intersection</td>\n",
       "      <td>0.24</td>\n",
       "      <td>East</td>\n",
       "      <td>999.0</td>\n",
       "      <td>DULANEY VALLEY RD</td>\n",
       "    </tr>\n",
       "    <tr>\n",
       "      <th>238495</th>\n",
       "      <td>Anne Arundel</td>\n",
       "      <td>2022</td>\n",
       "      <td>Q3</td>\n",
       "      <td>Single Vehicle</td>\n",
       "      <td>No Defects</td>\n",
       "      <td>One-way Trafficway</td>\n",
       "      <td>Dark Lights On</td>\n",
       "      <td>Dry</td>\n",
       "      <td>Unknown</td>\n",
       "      <td>Fixed Object</td>\n",
       "      <td>...</td>\n",
       "      <td>20220731</td>\n",
       "      <td>03:06:00</td>\n",
       "      <td>No</td>\n",
       "      <td>N</td>\n",
       "      <td>W</td>\n",
       "      <td>Unknown</td>\n",
       "      <td>15.64</td>\n",
       "      <td>East</td>\n",
       "      <td>0.0</td>\n",
       "      <td>RAMP 5 FR MD 2 SB TO MD 450 EB</td>\n",
       "    </tr>\n",
       "    <tr>\n",
       "      <th>726311</th>\n",
       "      <td>Prince George's</td>\n",
       "      <td>2020</td>\n",
       "      <td>Q1</td>\n",
       "      <td>Other</td>\n",
       "      <td>Unknown</td>\n",
       "      <td>Unknown</td>\n",
       "      <td>Dark Lights On</td>\n",
       "      <td>Unknown</td>\n",
       "      <td>Unknown</td>\n",
       "      <td>Unknown</td>\n",
       "      <td>...</td>\n",
       "      <td>20200108</td>\n",
       "      <td>20:30:00</td>\n",
       "      <td>No</td>\n",
       "      <td>N</td>\n",
       "      <td>Unknown</td>\n",
       "      <td>Unknown</td>\n",
       "      <td>Unknown</td>\n",
       "      <td>Unknown</td>\n",
       "      <td>Unknown</td>\n",
       "      <td>Unknown</td>\n",
       "    </tr>\n",
       "  </tbody>\n",
       "</table>\n",
       "<p>5 rows × 24 columns</p>\n",
       "</div>"
      ],
      "text/plain": [
       "            COUNTY_DESC  YEAR QUARTER       COLLISION_TYPE_DESC RD_COND_DESC  \\\n",
       "592987          Carroll  2019      Q3                     Other   No Defects   \n",
       "276155        Baltimore  2022      Q4  Same Direction Left Turn   No Defects   \n",
       "512850        Baltimore  2017      Q3                     Other   No Defects   \n",
       "238495     Anne Arundel  2022      Q3            Single Vehicle   No Defects   \n",
       "726311  Prince George's  2020      Q1                     Other      Unknown   \n",
       "\n",
       "                                      RD_DIV_DESC      LIGHT_DESC  \\\n",
       "592987                       Two-way, Not Divided         Unknown   \n",
       "276155  Two-way, Divided, Positive Median Barrier        Daylight   \n",
       "512850                       Two-way, Not Divided            Dusk   \n",
       "238495                         One-way Trafficway  Dark Lights On   \n",
       "726311                                    Unknown  Dark Lights On   \n",
       "\n",
       "       SURF_COND_DESC WEATHER_DESC HARM_EVENT_DESC1  ...  ACC_DATE  ACC_TIME  \\\n",
       "592987            Dry      Unknown          Unknown  ...  20190904  06:03:00   \n",
       "276155            Wet      Raining    Other Vehicle  ...  20221206  14:52:00   \n",
       "512850            Wet      Raining          Unknown  ...  20170906  19:00:00   \n",
       "238495            Dry      Unknown     Fixed Object  ...  20220731  03:06:00   \n",
       "726311        Unknown      Unknown          Unknown  ...  20200108  20:30:00   \n",
       "\n",
       "       SIGNAL_FLAG_DESC C_M_ZONE_FLAG  DISTANCE_DIR_FLAG     JUNCTION_DESC  \\\n",
       "592987               No             N                  W    Not Applicable   \n",
       "276155              Yes             N                  N      Intersection   \n",
       "512850               No             N                  W  Non Intersection   \n",
       "238495               No             N                  W           Unknown   \n",
       "726311               No             N            Unknown           Unknown   \n",
       "\n",
       "       LOG_MILE LOGMILE_DIR_FLAG_DESC DISTANCE             REFERENCE_ROAD_NAME  \n",
       "592987      2.0                  East      0.3                  BUCHER JOHN RD  \n",
       "276155     1.04                 North      0.0                      TAYLOR AVE  \n",
       "512850     0.24                  East    999.0               DULANEY VALLEY RD  \n",
       "238495    15.64                  East      0.0  RAMP 5 FR MD 2 SB TO MD 450 EB  \n",
       "726311  Unknown               Unknown  Unknown                         Unknown  \n",
       "\n",
       "[5 rows x 24 columns]"
      ]
     },
     "execution_count": 10,
     "metadata": {},
     "output_type": "execute_result"
    }
   ],
   "source": [
    "# Changing all the columns from new dataframe where they are null as 'unknown' because it wasnt reported in accident \n",
    "df_crash.fillna('Unknown', inplace=True)\n",
    "df_crash.sample(5)"
   ]
  },
  {
   "cell_type": "code",
   "execution_count": 11,
   "id": "f1fad9e3",
   "metadata": {},
   "outputs": [
    {
     "data": {
      "text/plain": [
       "COUNTY_DESC              0\n",
       "YEAR                     0\n",
       "QUARTER                  0\n",
       "COLLISION_TYPE_DESC      0\n",
       "RD_COND_DESC             0\n",
       "RD_DIV_DESC              0\n",
       "LIGHT_DESC               0\n",
       "SURF_COND_DESC           0\n",
       "WEATHER_DESC             0\n",
       "HARM_EVENT_DESC1         0\n",
       "HARM_EVENT_DESC2         0\n",
       "REPORT_TYPE              0\n",
       "FEET_MILES_FLAG_DESC     0\n",
       "FIX_OBJ_DESC             0\n",
       "ACC_DATE                 0\n",
       "ACC_TIME                 0\n",
       "SIGNAL_FLAG_DESC         0\n",
       "C_M_ZONE_FLAG            0\n",
       "DISTANCE_DIR_FLAG        0\n",
       "JUNCTION_DESC            0\n",
       "LOG_MILE                 0\n",
       "LOGMILE_DIR_FLAG_DESC    0\n",
       "DISTANCE                 0\n",
       "REFERENCE_ROAD_NAME      0\n",
       "dtype: int64"
      ]
     },
     "execution_count": 11,
     "metadata": {},
     "output_type": "execute_result"
    }
   ],
   "source": [
    "# Checking for nulls again for each columns \n",
    "df_crash.isnull().sum()"
   ]
  },
  {
   "cell_type": "markdown",
   "id": "a1c85464",
   "metadata": {},
   "source": [
    "# Technique and Models "
   ]
  },
  {
   "cell_type": "markdown",
   "id": "b37a2bec",
   "metadata": {},
   "source": [
    "## Logistic Regression\n",
    "\n",
    "### Crash severity classification:"
   ]
  },
  {
   "cell_type": "code",
   "execution_count": 12,
   "id": "36ea1c67",
   "metadata": {},
   "outputs": [],
   "source": [
    "# Importing the necessary library\n",
    "from sklearn.model_selection import train_test_split \n",
    "from sklearn.linear_model import LogisticRegression\n",
    "from sklearn.preprocessing import LabelEncoder \n",
    "from sklearn.metrics import classification_report\n",
    "from sklearn.metrics import roc_curve, auc"
   ]
  },
  {
   "cell_type": "code",
   "execution_count": 13,
   "id": "9137dcb9",
   "metadata": {},
   "outputs": [],
   "source": [
    "# Selecting the features and target variable that is applicable \n",
    "features = ['COUNTY_DESC', 'YEAR', 'QUARTER', 'COLLISION_TYPE_DESC', 'RD_COND_DESC', 'RD_DIV_DESC', \n",
    "'LIGHT_DESC','SURF_COND_DESC','WEATHER_DESC', 'HARM_EVENT_DESC1', 'HARM_EVENT_DESC2',\n",
    "'FEET_MILES_FLAG_DESC', 'FIX_OBJ_DESC', 'ACC_DATE', 'ACC_TIME', 'SIGNAL_FLAG_DESC', 'C_M_ZONE_FLAG', \n",
    "'DISTANCE_DIR_FLAG', 'JUNCTION_DESC', 'LOG_MILE', 'LOGMILE_DIR_FLAG_DESC', 'DISTANCE']\n",
    "target = 'REPORT_TYPE'"
   ]
  },
  {
   "cell_type": "code",
   "execution_count": 14,
   "id": "66a99160",
   "metadata": {},
   "outputs": [],
   "source": [
    "# Filtering through our dataset to include those classes \n",
    "filtered = df_crash[df_crash[target].isin(['Property Damage Crash', 'Severe Crash'])]"
   ]
  },
  {
   "cell_type": "code",
   "execution_count": 15,
   "id": "2cf381b0",
   "metadata": {},
   "outputs": [],
   "source": [
    "# Preparing crash data by encoding variables\n",
    "encoder = LabelEncoder()\n",
    "for feature in features: \n",
    "    filtered[feature] = encoder.fit_transform(filtered[feature].astype(str))"
   ]
  },
  {
   "cell_type": "code",
   "execution_count": 16,
   "id": "1c126ec4",
   "metadata": {},
   "outputs": [],
   "source": [
    "# split the data into training and testing \n",
    "X_train, X_test, y_train, y_test = train_test_split(filtered[features], filtered[target], test_size = 0.2, random_state=42)"
   ]
  },
  {
   "cell_type": "code",
   "execution_count": 17,
   "id": "d8b412c6",
   "metadata": {},
   "outputs": [
    {
     "data": {
      "text/plain": [
       "LogisticRegression()"
      ]
     },
     "execution_count": 17,
     "metadata": {},
     "output_type": "execute_result"
    }
   ],
   "source": [
    "# Create and train model \n",
    "logistic_regression = LogisticRegression()\n",
    "logistic_regression.fit(X_train, y_train)"
   ]
  },
  {
   "cell_type": "code",
   "execution_count": 18,
   "id": "57334d8f",
   "metadata": {},
   "outputs": [],
   "source": [
    "# performing the prediction on the test \n",
    "predictions = logistic_regression.predict(X_test)"
   ]
  },
  {
   "cell_type": "code",
   "execution_count": 19,
   "id": "d14cd8d0",
   "metadata": {},
   "outputs": [
    {
     "name": "stdout",
     "output_type": "stream",
     "text": [
      "Classification Model: Logistic Regression\n",
      "                       precision    recall  f1-score   support\n",
      "\n",
      "Property Damage Crash       0.72      1.00      0.83    110045\n",
      "         Severe Crash       0.50      0.00      0.01     43477\n",
      "\n",
      "             accuracy                           0.72    153522\n",
      "            macro avg       0.61      0.50      0.42    153522\n",
      "         weighted avg       0.66      0.72      0.60    153522\n",
      "\n"
     ]
    }
   ],
   "source": [
    "# Performances of the model\n",
    "print(\"Classification Model: Logistic Regression\")\n",
    "\n",
    "print(classification_report(y_test, predictions))"
   ]
  },
  {
   "cell_type": "markdown",
   "id": "0a434fcf",
   "metadata": {},
   "source": [
    "Based on our performance of the Linear Regression, the accuray of 72% is considered a good score. "
   ]
  },
  {
   "cell_type": "markdown",
   "id": "d7e7445b",
   "metadata": {},
   "source": [
    "## ROC Curve "
   ]
  },
  {
   "cell_type": "code",
   "execution_count": 20,
   "id": "0706d46a",
   "metadata": {},
   "outputs": [],
   "source": [
    "# Importing \n",
    "from sklearn.preprocessing import LabelEncoder\n",
    "\n",
    "# Preparing the crash data by encoding\n",
    "encoder = LabelEncoder()\n",
    "y_test_encoded = encoder.fit_transform(y_test)\n",
    "\n",
    "# probabilities for positive class \n",
    "prob = logistic_regression.predict_proba(X_test)[:, 1]\n",
    "\n",
    "# Computing false positive rate, true positive rate, and threshold \n",
    "fpr, tpr, thresholds = roc_curve(y_test_encoded, prob)\n"
   ]
  },
  {
   "cell_type": "code",
   "execution_count": 21,
   "id": "b0413c97",
   "metadata": {},
   "outputs": [
    {
     "data": {
      "text/plain": [
       "0.5985683623627394"
      ]
     },
     "execution_count": 21,
     "metadata": {},
     "output_type": "execute_result"
    }
   ],
   "source": [
    "# Calculating ROC curve \n",
    "roc_auc = auc(fpr, tpr)\n",
    "roc_auc"
   ]
  },
  {
   "cell_type": "code",
   "execution_count": 22,
   "id": "59dc6fdf",
   "metadata": {},
   "outputs": [
    {
     "name": "stdout",
     "output_type": "stream",
     "text": [
      "ROC Curve: Logistic Regression\n"
     ]
    },
    {
     "data": {
      "image/png": "[encoded data removed]",
      "text/plain": [
       "<Figure size 640x480 with 1 Axes>"
      ]
     },
     "metadata": {},
     "output_type": "display_data"
    }
   ],
   "source": [
    "# Plotting the ROC curve \n",
    "print(\"ROC Curve: Logistic Regression\")\n",
    "plt.figure()\n",
    "plt.plot(fpr, tpr, label='Logistic Regression (AUC= %0.2f)' % roc_auc)\n",
    "plt.plot([0,1], [0,1], 'k--')\n",
    "plt.xlabel('False Positive Rate')\n",
    "plt.ylabel('True Positive Rate')\n",
    "plt.legend(loc='lower right')\n",
    "plt.show()"
   ]
  },
  {
   "cell_type": "markdown",
   "id": "6459298d",
   "metadata": {},
   "source": [
    "From our analysis, the AUC value tells us that it is considered a poor to fair performance. 60% would be lower so for this I would choose Logistic Regression Classification to decide our crash severity classification. "
   ]
  },
  {
   "cell_type": "markdown",
   "id": "6cf6e1a8",
   "metadata": {},
   "source": [
    "# Random Forest Classification\n",
    "\n",
    "### Crash severity classification:"
   ]
  },
  {
   "cell_type": "code",
   "execution_count": 23,
   "id": "6f0e684d",
   "metadata": {},
   "outputs": [],
   "source": [
    "# Importing Random Forest Classification \n",
    "from sklearn.model_selection import train_test_split \n",
    "from sklearn.ensemble import RandomForestClassifier \n",
    "from sklearn.preprocessing import LabelEncoder\n",
    "from sklearn.metrics import roc_curve, auc\n",
    "from sklearn.metrics import classification_report, plot_confusion_matrix \n"
   ]
  },
  {
   "cell_type": "code",
   "execution_count": 24,
   "id": "957fdcc7",
   "metadata": {},
   "outputs": [],
   "source": [
    "# Selecting all the features and target variables \n",
    "features_rf = ['COUNTY_DESC', 'LIGHT_DESC','SURF_COND_DESC','WEATHER_DESC', 'JUNCTION_DESC', 'COLLISION_TYPE_DESC', \n",
    "              'RD_COND_DESC', 'RD_DIV_DESC', 'FIX_OBJ_DESC', 'SIGNAL_FLAG_DESC', 'HARM_EVENT_DESC1', 'HARM_EVENT_DESC2', \n",
    "              'DISTANCE_DIR_FLAG']\n",
    "target_rf = 'REPORT_TYPE'"
   ]
  },
  {
   "cell_type": "code",
   "execution_count": 25,
   "id": "b8749f69",
   "metadata": {},
   "outputs": [],
   "source": [
    "# Filtering to include all of the features and target variable \n",
    "filtered_rf = df_crash[features_rf + [target_rf]]"
   ]
  },
  {
   "cell_type": "code",
   "execution_count": 26,
   "id": "78e3166e",
   "metadata": {},
   "outputs": [],
   "source": [
    "# Converting all the categorical variables into numerical \n",
    "data_encoded = pd.get_dummies(filtered_rf, columns=['COUNTY_DESC', 'LIGHT_DESC','SURF_COND_DESC','WEATHER_DESC', \n",
    "                'JUNCTION_DESC', 'COLLISION_TYPE_DESC', 'RD_COND_DESC', 'RD_DIV_DESC', 'FIX_OBJ_DESC', \n",
    "                'SIGNAL_FLAG_DESC', 'HARM_EVENT_DESC1', 'HARM_EVENT_DESC2', 'DISTANCE_DIR_FLAG'])"
   ]
  },
  {
   "cell_type": "code",
   "execution_count": 27,
   "id": "25db4272",
   "metadata": {},
   "outputs": [],
   "source": [
    "# Splitting the data into training and testing sets \n",
    "X_train, X_test, y_train, y_test = train_test_split(data_encoded.drop(target_rf, axis=1), \n",
    "                                                    data_encoded[target_rf],test_size=0.2, random_state=42)"
   ]
  },
  {
   "cell_type": "code",
   "execution_count": 28,
   "id": "215c9c06",
   "metadata": {},
   "outputs": [
    {
     "data": {
      "text/plain": [
       "RandomForestClassifier()"
      ]
     },
     "execution_count": 28,
     "metadata": {},
     "output_type": "execute_result"
    }
   ],
   "source": [
    "# Create and train the Random Forest Classifier \n",
    "random_forest = RandomForestClassifier()\n",
    "random_forest.fit(X_train, y_train)"
   ]
  },
  {
   "cell_type": "code",
   "execution_count": 29,
   "id": "7e8b17c2",
   "metadata": {},
   "outputs": [],
   "source": [
    "# Perform prediction for the X_test \n",
    "pred = random_forest.predict(X_test)"
   ]
  },
  {
   "cell_type": "code",
   "execution_count": 30,
   "id": "367b789b",
   "metadata": {},
   "outputs": [
    {
     "name": "stdout",
     "output_type": "stream",
     "text": [
      "Classification Model: Random Forest\n",
      "                       precision    recall  f1-score   support\n",
      "\n",
      "Property Damage Crash       0.76      0.89      0.82    110045\n",
      "         Severe Crash       0.49      0.27      0.35     43477\n",
      "\n",
      "             accuracy                           0.72    153522\n",
      "            macro avg       0.63      0.58      0.58    153522\n",
      "         weighted avg       0.68      0.72      0.69    153522\n",
      "\n"
     ]
    }
   ],
   "source": [
    "print(\"Classification Model: Random Forest\")\n",
    "\n",
    "print(classification_report(y_test, pred))"
   ]
  },
  {
   "cell_type": "markdown",
   "id": "63a64af8",
   "metadata": {},
   "source": [
    "From our analysis, the random forest classifier is 72% accuracy. "
   ]
  },
  {
   "cell_type": "markdown",
   "id": "753c7f32",
   "metadata": {},
   "source": [
    "# ROC Curve for Random Forest"
   ]
  },
  {
   "cell_type": "code",
   "execution_count": 31,
   "id": "4521120f",
   "metadata": {},
   "outputs": [],
   "source": [
    "# Converting categorical target labels into numeric values\n",
    "label_encoder = LabelEncoder()\n",
    "y_train_encoded = label_encoder.fit_transform(y_train)\n",
    "y_test_encoded = label_encoder.transform(y_test)"
   ]
  },
  {
   "cell_type": "code",
   "execution_count": 32,
   "id": "ed686656",
   "metadata": {},
   "outputs": [
    {
     "data": {
      "text/plain": [
       "RandomForestClassifier()"
      ]
     },
     "execution_count": 32,
     "metadata": {},
     "output_type": "execute_result"
    }
   ],
   "source": [
    "# create train for random forest classifier\n",
    "random_forest = RandomForestClassifier()\n",
    "random_forest.fit(X_train, y_train_encoded)"
   ]
  },
  {
   "cell_type": "code",
   "execution_count": 33,
   "id": "21744b8d",
   "metadata": {},
   "outputs": [],
   "source": [
    "# Obtain predicted probabilities for positive class \n",
    "y_scores = random_forest.predict_proba(X_test)[:, 1]"
   ]
  },
  {
   "cell_type": "code",
   "execution_count": 34,
   "id": "6f3f0cc8",
   "metadata": {},
   "outputs": [],
   "source": [
    "# computing FPR, TPR, and thresholds\n",
    "fpr, tpr, thresholds = roc_curve(y_test_encoded, y_scores)"
   ]
  },
  {
   "cell_type": "code",
   "execution_count": 35,
   "id": "d23a3039",
   "metadata": {},
   "outputs": [
    {
     "data": {
      "text/plain": [
       "0.6740084529651141"
      ]
     },
     "execution_count": 35,
     "metadata": {},
     "output_type": "execute_result"
    }
   ],
   "source": [
    "# Computing area under ROC curve\n",
    "auc_score = auc(fpr, tpr)\n",
    "auc_score"
   ]
  },
  {
   "cell_type": "code",
   "execution_count": 36,
   "id": "a63836d2",
   "metadata": {},
   "outputs": [
    {
     "name": "stdout",
     "output_type": "stream",
     "text": [
      "ROC Curve: Random Forest\n"
     ]
    },
    {
     "data": {
      "image/png": "[encoded data removed]",
      "text/plain": [
       "<Figure size 640x480 with 1 Axes>"
      ]
     },
     "metadata": {},
     "output_type": "display_data"
    }
   ],
   "source": [
    "# Plot ROC curve\n",
    "print(\"ROC Curve: Random Forest\")\n",
    "plt.plot(fpr, tpr, label='ROC curve (area={:.2f})'.format(auc_score))\n",
    "plt.plot([0,1], [0,1], 'k--')\n",
    "plt.xlabel('False Positive Rate (FPR)')\n",
    "plt.ylabel('True Positive Rate (TPR)')\n",
    "plt.legend(loc='lower right')\n",
    "plt.show()"
   ]
  },
  {
   "cell_type": "markdown",
   "id": "b2524a5a",
   "metadata": {},
   "source": [
    "The ROC Curve for random forest shows a 67%. "
   ]
  },
  {
   "cell_type": "markdown",
   "id": "1536a6ea",
   "metadata": {},
   "source": [
    "## Confusion Matrix "
   ]
  },
  {
   "cell_type": "code",
   "execution_count": 37,
   "id": "00cf5341",
   "metadata": {},
   "outputs": [
    {
     "data": {
      "image/png": "[encoded data removed]",
      "text/plain": [
       "<Figure size 640x480 with 2 Axes>"
      ]
     },
     "metadata": {},
     "output_type": "display_data"
    }
   ],
   "source": [
    "# Creating the confusion matrix for the results and different colors\n",
    "plot_confusion_matrix(random_forest, X_test, y_test_encoded, cmap=plt.cm.Blues, \n",
    "                     display_labels = [\"Property Damage Crash\", \"Severe Crash\"]) # Changing colors of confusion matrix\n",
    "plt.title(\"Confusion Matrix\") # Title \n",
    "plt.show()"
   ]
  },
  {
   "cell_type": "markdown",
   "id": "63f0fa32",
   "metadata": {},
   "source": [
    "### Based on the results from confusion matrix: \n",
    "\n",
    "- 98103 represent number of instances correctly predicted as 'Property Damage Crash' (True Negatives). \n",
    "- 11942 represent the number of instances incorrectly predicted as 'Severe Crash' when they should be 'Property Damage Crash' (False Positives). \n",
    "- 31805 represent the number of instances incorrectly predicted as 'Property Damage Crash' when they should be 'Severe Cash' (False Negatives). \n",
    "- 11672 represent the number of instances correctly predicted as 'Severe Crash' (True Positives). \n",
    "\n",
    "### In Summary: \n",
    "- The confusion matrix correctly predicted 'Property Damage Crash' with count of 98103 (True Negatives). \n",
    "- The model made false positive predictions because it classified 'Severe Crash' when they were 'Property Damage Crash' with count of 11942 (False Positives).\n",
    "- The model false negative prediction because it classified 'Property Damage Crash' when they were 'Severe Crash' incorrectly with count of 31805 (False Negatives). \n",
    "- the confusion matrix correctly predicted 'Severe Crash' with count of 11672 (True Positives). "
   ]
  },
  {
   "cell_type": "markdown",
   "id": "15975795",
   "metadata": {},
   "source": [
    "# Decision Tree"
   ]
  },
  {
   "cell_type": "code",
   "execution_count": 38,
   "id": "8aeff577",
   "metadata": {},
   "outputs": [],
   "source": [
    "# Importing models\n",
    "from sklearn.model_selection import train_test_split \n",
    "from sklearn.tree import DecisionTreeClassifier, plot_tree\n",
    "from sklearn.metrics import classification_report \n",
    "from sklearn.preprocessing import LabelEncoder\n",
    "from sklearn.metrics import roc_curve, auc\n",
    "import matplotlib.pyplot as plt\n"
   ]
  },
  {
   "cell_type": "code",
   "execution_count": 39,
   "id": "8d50d0f9",
   "metadata": {},
   "outputs": [],
   "source": [
    "# Identifying feature and target variables \n",
    "features_dt = ['COUNTY_DESC', 'LIGHT_DESC','SURF_COND_DESC','WEATHER_DESC', 'JUNCTION_DESC', 'COLLISION_TYPE_DESC', \n",
    "              'RD_COND_DESC', 'RD_DIV_DESC', 'FIX_OBJ_DESC', 'SIGNAL_FLAG_DESC', 'HARM_EVENT_DESC1', 'HARM_EVENT_DESC2', \n",
    "              'DISTANCE_DIR_FLAG']\n",
    "target_dt = 'REPORT_TYPE'"
   ]
  },
  {
   "cell_type": "code",
   "execution_count": 40,
   "id": "c9d6e83c",
   "metadata": {},
   "outputs": [],
   "source": [
    "# Filtering to include all of the features and target variable \n",
    "filtered_dt = df_crash[features_dt + [target_dt]]"
   ]
  },
  {
   "cell_type": "code",
   "execution_count": 41,
   "id": "acb8d779",
   "metadata": {},
   "outputs": [],
   "source": [
    "# Converting all the categorical variables into numerical \n",
    "data_encoded_dt = pd.get_dummies(filtered_dt, columns=['COUNTY_DESC', 'LIGHT_DESC','SURF_COND_DESC','WEATHER_DESC', 'JUNCTION_DESC', 'COLLISION_TYPE_DESC', \n",
    "              'RD_COND_DESC', 'RD_DIV_DESC', 'FIX_OBJ_DESC', 'SIGNAL_FLAG_DESC', 'HARM_EVENT_DESC1', 'HARM_EVENT_DESC2', \n",
    "              'DISTANCE_DIR_FLAG'])"
   ]
  },
  {
   "cell_type": "code",
   "execution_count": 42,
   "id": "13198fcc",
   "metadata": {},
   "outputs": [],
   "source": [
    "# Splitting the data into training and testing sets \n",
    "X_train, X_test, y_train, y_test = train_test_split(data_encoded_dt.drop(target_dt, axis=1), \n",
    "                                                    data_encoded_dt[target_rf],test_size=0.2, random_state=42)"
   ]
  },
  {
   "cell_type": "code",
   "execution_count": 43,
   "id": "e9b44697",
   "metadata": {},
   "outputs": [],
   "source": [
    "# Creating a decision tree classifier\n",
    "decision_tree = DecisionTreeClassifier()"
   ]
  },
  {
   "cell_type": "code",
   "execution_count": 44,
   "id": "5565245d",
   "metadata": {},
   "outputs": [
    {
     "data": {
      "text/plain": [
       "DecisionTreeClassifier()"
      ]
     },
     "execution_count": 44,
     "metadata": {},
     "output_type": "execute_result"
    }
   ],
   "source": [
    "# train decision tree classifier\n",
    "decision_tree.fit(X_train, y_train)"
   ]
  },
  {
   "cell_type": "code",
   "execution_count": 45,
   "id": "758fce2e",
   "metadata": {},
   "outputs": [],
   "source": [
    "# Making predictions on test value\n",
    "predictions = decision_tree.predict(X_test)"
   ]
  },
  {
   "cell_type": "code",
   "execution_count": 46,
   "id": "e2c08408",
   "metadata": {},
   "outputs": [
    {
     "name": "stdout",
     "output_type": "stream",
     "text": [
      "Classification Model: Decision Tree\n",
      "                       precision    recall  f1-score   support\n",
      "\n",
      "Property Damage Crash       0.75      0.83      0.79    110045\n",
      "         Severe Crash       0.42      0.31      0.36     43477\n",
      "\n",
      "             accuracy                           0.68    153522\n",
      "            macro avg       0.58      0.57      0.57    153522\n",
      "         weighted avg       0.66      0.68      0.67    153522\n",
      "\n"
     ]
    }
   ],
   "source": [
    "# Printing the model performance\n",
    "print(\"Classification Model: Decision Tree\")\n",
    "print(classification_report(y_test, predictions))"
   ]
  },
  {
   "cell_type": "markdown",
   "id": "354e0e16",
   "metadata": {},
   "source": [
    "From on the results, the decision tree results show that the accuracy is 68%. "
   ]
  },
  {
   "cell_type": "code",
   "execution_count": 47,
   "id": "88386307",
   "metadata": {},
   "outputs": [],
   "source": [
    "# Converting categorical into numerical \n",
    "label_encoder = LabelEncoder()\n",
    "y_train_encoded = label_encoder.fit_transform(y_train)\n",
    "y_test_encoded = label_encoder.transform(y_test)"
   ]
  },
  {
   "cell_type": "code",
   "execution_count": 48,
   "id": "2059808e",
   "metadata": {},
   "outputs": [],
   "source": [
    "# Create decision tree\n",
    "decision_tree = DecisionTreeClassifier()"
   ]
  },
  {
   "cell_type": "code",
   "execution_count": 49,
   "id": "20a08df9",
   "metadata": {},
   "outputs": [
    {
     "data": {
      "text/plain": [
       "DecisionTreeClassifier()"
      ]
     },
     "execution_count": 49,
     "metadata": {},
     "output_type": "execute_result"
    }
   ],
   "source": [
    "# Create train model \n",
    "decision_tree.fit(X_train, y_train_encoded)"
   ]
  },
  {
   "cell_type": "code",
   "execution_count": 50,
   "id": "8f80516d",
   "metadata": {},
   "outputs": [],
   "source": [
    "# Get predicted probabilities for severe crash \n",
    "y_scores = decision_tree.predict_proba(X_test)[:,1]"
   ]
  },
  {
   "cell_type": "code",
   "execution_count": 51,
   "id": "2c9933c8",
   "metadata": {},
   "outputs": [],
   "source": [
    "# Compute false position rate, true positive, and thresholds \n",
    "fpr, tpr, thresholds = roc_curve(y_test_encoded, y_scores)"
   ]
  },
  {
   "cell_type": "code",
   "execution_count": 52,
   "id": "0f2e234f",
   "metadata": {},
   "outputs": [
    {
     "data": {
      "text/plain": [
       "0.5945332915676863"
      ]
     },
     "execution_count": 52,
     "metadata": {},
     "output_type": "execute_result"
    }
   ],
   "source": [
    "# Computing area of ROC curve \n",
    "roc_auc = auc(fpr, tpr)\n",
    "roc_auc"
   ]
  },
  {
   "cell_type": "code",
   "execution_count": 53,
   "id": "e5b6f619",
   "metadata": {},
   "outputs": [
    {
     "name": "stdout",
     "output_type": "stream",
     "text": [
      "ROC Curve: Decision Tree\n"
     ]
    },
    {
     "data": {
      "image/png": "[encoded data removed]",
      "text/plain": [
       "<Figure size 640x480 with 1 Axes>"
      ]
     },
     "metadata": {},
     "output_type": "display_data"
    }
   ],
   "source": [
    "# plot ROC curve \n",
    "print(\"ROC Curve: Decision Tree\")\n",
    "plt.figure()\n",
    "plt.plot(fpr, tpr, label='ROC curve (area= %0.2f)' % roc_auc)\n",
    "plt.plot([0,1], [0,1], 'k--')\n",
    "plt.xlabel('False Positive Rate')\n",
    "plt.ylabel('True Positive Rate')\n",
    "plt.legend(loc='lower right')\n",
    "plt.show()"
   ]
  },
  {
   "cell_type": "markdown",
   "id": "8d7589a9",
   "metadata": {},
   "source": [
    "The ROC curve from our decision tree shows that it is 59%. The results of the ROC curve is low. "
   ]
  },
  {
   "cell_type": "markdown",
   "id": "e8a02a28",
   "metadata": {},
   "source": [
    "## Overall analysis: \n",
    "\n",
    "Based on the overall results, random forest model and ROC curve value of .67 suggest that it provides a better discrimination compared to logistic regression and decision tree. Although, logistic regression and random forest classification have the same accuracy of .72 (72%), comparing the ROC curve of .67 (67%) a higher ROC curve indicates a better distinction between positive and negative classes. The model provides a higher probability of correctly  classifying 'Severe Crash' as positive instances. \n",
    "\n",
    "Random Forest classification model is the better model to proceed with as it has higher ROC curve value indicating better overall performance in the target variable. "
   ]
  },
  {
   "cell_type": "markdown",
   "id": "b76ab980",
   "metadata": {},
   "source": [
    "## References: \n",
    "- https://seaborn.pydata.org/tutorial/color_palettes.html\n",
    "- https://www.trollingerlaw.com/car-accident-statistics/#:~:text=The%20most%20current%20car%20crash,county%20roads%20(23%20percent).\n",
    "- https://realpython.com/logistic-regression-python/\n",
    "- https://www.sharpsightlabs.com/blog/pandas-get-dummies/\n",
    "- https://www.geeksforgeeks.org/how-to-convert-categorical-string-data-into-numeric-in-python/\n",
    "- https://matplotlib.org/stable/tutorials/colors/colormaps.html\n",
    "- https://machinelearningmastery.com/roc-curves-and-precision-recall-curves-for-classification-in-python/\n",
    "- https://www.geeksforgeeks.org/calculate-roc-auc-for-classification-algorithm-such-as-random-forest/\n"
   ]
  }
 ],
 "metadata": {
  "kernelspec": {
   "display_name": "Python 3 (ipykernel)",
   "language": "python",
   "name": "python3"
  },
  "language_info": {
   "codemirror_mode": {
    "name": "ipython",
    "version": 3
   },
   "file_extension": ".py",
   "mimetype": "text/x-python",
   "name": "python",
   "nbconvert_exporter": "python",
   "pygments_lexer": "ipython3",
   "version": "3.9.13"
  }
 },
 "nbformat": 4,
 "nbformat_minor": 5
}
