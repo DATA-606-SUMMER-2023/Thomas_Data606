{
 "cells": [
  {
   "cell_type": "markdown",
   "id": "f5d3f0e2",
   "metadata": {},
   "source": [
    "# Data Science Project"
   ]
  },
  {
   "cell_type": "markdown",
   "id": "7400a2b0",
   "metadata": {},
   "source": [
    "**Author Name:** Thomas Nguyen <br> \n",
    "**Course:** Data 606 <br> \n",
    "**Instructor:** Dr. Charojie (Jay) Wang"
   ]
  },
  {
   "cell_type": "markdown",
   "id": "eca95970",
   "metadata": {},
   "source": [
    "# Maryland Statewide Vehicle Crashes (2015-2022) "
   ]
  },
  {
   "cell_type": "markdown",
   "id": "ea3cca92",
   "metadata": {},
   "source": [
    "# Overview: "
   ]
  },
  {
   "cell_type": "markdown",
   "id": "e268420d",
   "metadata": {},
   "source": [
    "The crash data for Maryland is obtained from https://opendata.maryland.gov/. Crash data in Maryland are reported from January 2015 through December 2022. The dataset contains total of 56 columns and 878343 entries. The dataset is downloaded as a CSV file. In the state of Maryland, on average there are 115,555 car accidents each year over five-year period. This is one of the highest percentage of car crashes on highways and county roads. \n",
    "\n",
    "\n",
    "**Data Source:**  https://opendata.maryland.gov/Public-Safety/Maryland-Statewide-Vehicle-Crashes/65du-s3qu"
   ]
  },
  {
   "cell_type": "markdown",
   "id": "b99aa27a",
   "metadata": {},
   "source": [
    "# Use of Data: "
   ]
  },
  {
   "cell_type": "markdown",
   "id": "bc6a9cdb",
   "metadata": {},
   "source": [
    "## Predicting Crashes\n",
    "\n",
    "### **Crash severity classification:**\n",
    "\n",
    "#### **Features:**\n",
    "\n",
    "- COUNTY_DESC: Counties in Maryland (Montgomery, Frederick, Howard, etc.)\n",
    "- YEAR: Values of year the crash occurred 2015-2022\n",
    "- QUARTER: Values of each quarter (Q1, Q2, Q3, Q4)\n",
    "- COLLISION_TYPE_DESC: Description of collision (Head on righ turn, same direction rear end, etc.)\n",
    "- RD_COND_DESC: Description of the road condition (No defects or defects) \n",
    "- RD_DIV_DESC: Description of road divided (Two-way, divided, one-way)\n",
    "- LIGHT_DESC: Description of light time (Daylight, Dark, etc.)\n",
    "- SURF_COND_DESC: Description of surface condition (Dry, wet, etc.)\n",
    "- WEATHER_DESC: Description of weather condition (Blowing sand, clear, raining)\n",
    "- HARM_EVENT_DESC1: Description of the cause of accident  \n",
    "- HARM_EVENT_DESC2: Description of the cause of accident2\n",
    "- REPORT_TYPE: Type of accident reported (Property, fatal, or injury crash)\n",
    "- FEET_MILES_FLAG_DESC: Description of feet or miles\n",
    "- FIX_OBJ_DESC: Description of property near accident \n",
    "- ACC_DATE: Accident Date\n",
    "- ACC_TIME: Accident Time\n",
    "- SIGNAL_FLAG_DESC: Yes or No, if direction was flagged \n",
    "- C_M_ZONE_FLAG: Contains values of N or Y \n",
    "- DISTANCE_DIR_FLAG: Distance of direction flagged (N, S, E, W) \n",
    "- JUNCTION_DESC: Description of juntion (Alley, intersection, etc.)\n",
    "- LOG_MILE: Distance of accident from survey zone\n",
    "- LOGMILE_DIR_FLAG_DESC: Description of direction accident occurred (North, South, West, East)\n",
    "- DISTANCE: Distance of the crash\n",
    "- REFERENCE_ROAD_NAME: References of road name\n",
    "\n",
    "#### **Target:**\n",
    "\n",
    "- REPORT_TYPE: Type of accident reported (Property, fatal, or injury crash)\n"
   ]
  },
  {
   "cell_type": "markdown",
   "id": "89659c33",
   "metadata": {},
   "source": [
    "## Importing packages"
   ]
  },
  {
   "cell_type": "code",
   "execution_count": 1,
   "id": "ad3c2aa1",
   "metadata": {},
   "outputs": [],
   "source": [
    "#Importing the packages\n",
    "import pandas as pd \n",
    "import numpy as np \n",
    "\n",
    "#Importing visualization tools\n",
    "import seaborn as sns \n",
    "import matplotlib.pyplot as plt\n",
    "import warnings\n",
    "warnings.filterwarnings(\"ignore\")\n"
   ]
  },
  {
   "cell_type": "code",
   "execution_count": 2,
   "id": "58dc593b",
   "metadata": {},
   "outputs": [
    {
     "data": {
      "text/html": [
       "<div>\n",
       "<style scoped>\n",
       "    .dataframe tbody tr th:only-of-type {\n",
       "        vertical-align: middle;\n",
       "    }\n",
       "\n",
       "    .dataframe tbody tr th {\n",
       "        vertical-align: top;\n",
       "    }\n",
       "\n",
       "    .dataframe thead th {\n",
       "        text-align: right;\n",
       "    }\n",
       "</style>\n",
       "<table border=\"1\" class=\"dataframe\">\n",
       "  <thead>\n",
       "    <tr style=\"text-align: right;\">\n",
       "      <th></th>\n",
       "      <th>YEAR</th>\n",
       "      <th>QUARTER</th>\n",
       "      <th>LIGHT_DESC</th>\n",
       "      <th>LIGHT_CODE</th>\n",
       "      <th>COUNTY_DESC</th>\n",
       "      <th>COUNTY_NO</th>\n",
       "      <th>MUNI_DESC</th>\n",
       "      <th>MUNI_CODE</th>\n",
       "      <th>JUNCTION_DESC</th>\n",
       "      <th>JUNCTION_CODE</th>\n",
       "      <th>...</th>\n",
       "      <th>FEET_MILES_FLAG</th>\n",
       "      <th>DISTANCE_DIR_FLAG</th>\n",
       "      <th>REFERENCE_NO</th>\n",
       "      <th>REFERENCE_TYPE_CODE</th>\n",
       "      <th>REFERENCE_SUFFIX</th>\n",
       "      <th>REFERENCE_ROAD_NAME</th>\n",
       "      <th>LATITUDE</th>\n",
       "      <th>LONGITUDE</th>\n",
       "      <th>LOCATION</th>\n",
       "      <th>Counties</th>\n",
       "    </tr>\n",
       "  </thead>\n",
       "  <tbody>\n",
       "    <tr>\n",
       "      <th>785034</th>\n",
       "      <td>2017</td>\n",
       "      <td>Q2</td>\n",
       "      <td>Dusk</td>\n",
       "      <td>6.02</td>\n",
       "      <td>Prince George's</td>\n",
       "      <td>16.0</td>\n",
       "      <td>NaN</td>\n",
       "      <td>0.0</td>\n",
       "      <td>Intersection Related</td>\n",
       "      <td>3.0</td>\n",
       "      <td>...</td>\n",
       "      <td>F</td>\n",
       "      <td>S</td>\n",
       "      <td>0.0</td>\n",
       "      <td>UU</td>\n",
       "      <td>NaN</td>\n",
       "      <td>WASH DC LINE</td>\n",
       "      <td>38.870690</td>\n",
       "      <td>-76.937725</td>\n",
       "      <td>POINT (-76.9377252459526 38.8706897029204)</td>\n",
       "      <td>1049.0</td>\n",
       "    </tr>\n",
       "    <tr>\n",
       "      <th>194571</th>\n",
       "      <td>2022</td>\n",
       "      <td>Q1</td>\n",
       "      <td>Dark Lights On</td>\n",
       "      <td>3.00</td>\n",
       "      <td>Montgomery</td>\n",
       "      <td>15.0</td>\n",
       "      <td>NaN</td>\n",
       "      <td>0.0</td>\n",
       "      <td>Non Intersection</td>\n",
       "      <td>1.0</td>\n",
       "      <td>...</td>\n",
       "      <td>F</td>\n",
       "      <td>E</td>\n",
       "      <td>495.0</td>\n",
       "      <td>IS</td>\n",
       "      <td>X</td>\n",
       "      <td>CABIN JOHN PKWY</td>\n",
       "      <td>38.992103</td>\n",
       "      <td>-77.157785</td>\n",
       "      <td>POINT (-77.157785216667 38.992102866667)</td>\n",
       "      <td>1814.0</td>\n",
       "    </tr>\n",
       "    <tr>\n",
       "      <th>225171</th>\n",
       "      <td>2022</td>\n",
       "      <td>Q2</td>\n",
       "      <td>Not Applicable</td>\n",
       "      <td>0.00</td>\n",
       "      <td>Baltimore City</td>\n",
       "      <td>24.0</td>\n",
       "      <td>NaN</td>\n",
       "      <td>999.0</td>\n",
       "      <td>Non Intersection</td>\n",
       "      <td>1.0</td>\n",
       "      <td>...</td>\n",
       "      <td>F</td>\n",
       "      <td>W</td>\n",
       "      <td>1030.0</td>\n",
       "      <td>MU</td>\n",
       "      <td>NaN</td>\n",
       "      <td>CEDONIA AVE</td>\n",
       "      <td>39.330554</td>\n",
       "      <td>-76.533424</td>\n",
       "      <td>POINT (-76.533423515505 39.33055445458)</td>\n",
       "      <td>1857.0</td>\n",
       "    </tr>\n",
       "    <tr>\n",
       "      <th>151726</th>\n",
       "      <td>2021</td>\n",
       "      <td>Q3</td>\n",
       "      <td>Daylight</td>\n",
       "      <td>1.00</td>\n",
       "      <td>Prince George's</td>\n",
       "      <td>16.0</td>\n",
       "      <td>NaN</td>\n",
       "      <td>0.0</td>\n",
       "      <td>Non Intersection</td>\n",
       "      <td>1.0</td>\n",
       "      <td>...</td>\n",
       "      <td>F</td>\n",
       "      <td>N</td>\n",
       "      <td>5380.0</td>\n",
       "      <td>CO</td>\n",
       "      <td>NaN</td>\n",
       "      <td>WOODY TERR</td>\n",
       "      <td>38.767217</td>\n",
       "      <td>-76.886039</td>\n",
       "      <td>POINT (-76.886039 38.767217)</td>\n",
       "      <td>1815.0</td>\n",
       "    </tr>\n",
       "    <tr>\n",
       "      <th>693021</th>\n",
       "      <td>2019</td>\n",
       "      <td>Q4</td>\n",
       "      <td>Daylight</td>\n",
       "      <td>1.00</td>\n",
       "      <td>Baltimore City</td>\n",
       "      <td>24.0</td>\n",
       "      <td>NaN</td>\n",
       "      <td>NaN</td>\n",
       "      <td>Intersection</td>\n",
       "      <td>2.0</td>\n",
       "      <td>...</td>\n",
       "      <td>F</td>\n",
       "      <td>N</td>\n",
       "      <td>NaN</td>\n",
       "      <td>NaN</td>\n",
       "      <td>NaN</td>\n",
       "      <td>N. CALHOUN ST.</td>\n",
       "      <td>39.289714</td>\n",
       "      <td>-76.639617</td>\n",
       "      <td>POINT (-76.6396172503541 39.2897140235786)</td>\n",
       "      <td>1857.0</td>\n",
       "    </tr>\n",
       "  </tbody>\n",
       "</table>\n",
       "<p>5 rows × 56 columns</p>\n",
       "</div>"
      ],
      "text/plain": [
       "        YEAR QUARTER      LIGHT_DESC  LIGHT_CODE      COUNTY_DESC  COUNTY_NO  \\\n",
       "785034  2017      Q2            Dusk        6.02  Prince George's       16.0   \n",
       "194571  2022      Q1  Dark Lights On        3.00       Montgomery       15.0   \n",
       "225171  2022      Q2  Not Applicable        0.00   Baltimore City       24.0   \n",
       "151726  2021      Q3        Daylight        1.00  Prince George's       16.0   \n",
       "693021  2019      Q4        Daylight        1.00   Baltimore City       24.0   \n",
       "\n",
       "        MUNI_DESC  MUNI_CODE         JUNCTION_DESC  JUNCTION_CODE  ...  \\\n",
       "785034        NaN        0.0  Intersection Related            3.0  ...   \n",
       "194571        NaN        0.0      Non Intersection            1.0  ...   \n",
       "225171        NaN      999.0      Non Intersection            1.0  ...   \n",
       "151726        NaN        0.0      Non Intersection            1.0  ...   \n",
       "693021        NaN        NaN          Intersection            2.0  ...   \n",
       "\n",
       "       FEET_MILES_FLAG  DISTANCE_DIR_FLAG REFERENCE_NO  REFERENCE_TYPE_CODE  \\\n",
       "785034               F                  S          0.0                   UU   \n",
       "194571               F                  E        495.0                   IS   \n",
       "225171               F                  W       1030.0                   MU   \n",
       "151726               F                  N       5380.0                   CO   \n",
       "693021               F                  N          NaN                  NaN   \n",
       "\n",
       "        REFERENCE_SUFFIX REFERENCE_ROAD_NAME   LATITUDE  LONGITUDE  \\\n",
       "785034               NaN        WASH DC LINE  38.870690 -76.937725   \n",
       "194571                 X     CABIN JOHN PKWY  38.992103 -77.157785   \n",
       "225171               NaN         CEDONIA AVE  39.330554 -76.533424   \n",
       "151726               NaN          WOODY TERR  38.767217 -76.886039   \n",
       "693021               NaN      N. CALHOUN ST.  39.289714 -76.639617   \n",
       "\n",
       "                                          LOCATION Counties  \n",
       "785034  POINT (-76.9377252459526 38.8706897029204)   1049.0  \n",
       "194571    POINT (-77.157785216667 38.992102866667)   1814.0  \n",
       "225171     POINT (-76.533423515505 39.33055445458)   1857.0  \n",
       "151726                POINT (-76.886039 38.767217)   1815.0  \n",
       "693021  POINT (-76.6396172503541 39.2897140235786)   1857.0  \n",
       "\n",
       "[5 rows x 56 columns]"
      ]
     },
     "execution_count": 2,
     "metadata": {},
     "output_type": "execute_result"
    }
   ],
   "source": [
    "#Loading in our dataset\n",
    "crash = pd.read_csv(\"Maryland_Statewide_Vehicle_Crashes.csv\")\n",
    "crash.sample(5)"
   ]
  },
  {
   "cell_type": "code",
   "execution_count": 3,
   "id": "6371ea95",
   "metadata": {},
   "outputs": [
    {
     "name": "stdout",
     "output_type": "stream",
     "text": [
      "<class 'pandas.core.frame.DataFrame'>\n",
      "RangeIndex: 878343 entries, 0 to 878342\n",
      "Data columns (total 56 columns):\n",
      " #   Column                 Non-Null Count   Dtype  \n",
      "---  ------                 --------------   -----  \n",
      " 0   YEAR                   878343 non-null  int64  \n",
      " 1   QUARTER                878343 non-null  object \n",
      " 2   LIGHT_DESC             841025 non-null  object \n",
      " 3   LIGHT_CODE             878343 non-null  float64\n",
      " 4   COUNTY_DESC            878329 non-null  object \n",
      " 5   COUNTY_NO              878329 non-null  float64\n",
      " 6   MUNI_DESC              0 non-null       float64\n",
      " 7   MUNI_CODE              659957 non-null  float64\n",
      " 8   JUNCTION_DESC          760119 non-null  object \n",
      " 9   JUNCTION_CODE          791512 non-null  float64\n",
      " 10  COLLISION_TYPE_DESC    878343 non-null  object \n",
      " 11  COLLISION_TYPE_CODE    878343 non-null  int64  \n",
      " 12  SURF_COND_DESC         789107 non-null  object \n",
      " 13  SURF_COND_CODE         791512 non-null  float64\n",
      " 14  LANE_CODE              668083 non-null  float64\n",
      " 15  RD_COND_DESC           791512 non-null  object \n",
      " 16  RD_COND_CODE           791512 non-null  float64\n",
      " 17  RD_DIV_DESC            786857 non-null  object \n",
      " 18  RD_DIV_CODE            791512 non-null  float64\n",
      " 19  FIX_OBJ_DESC           831232 non-null  object \n",
      " 20  FIX_OBJ_CODE           878343 non-null  float64\n",
      " 21  REPORT_NO              878343 non-null  object \n",
      " 22  REPORT_TYPE            767610 non-null  object \n",
      " 23  WEATHER_DESC           450477 non-null  object \n",
      " 24  WEATHER_CODE           878343 non-null  float64\n",
      " 25  ACC_DATE               878343 non-null  int64  \n",
      " 26  ACC_TIME               878343 non-null  object \n",
      " 27  LOC_CODE               401188 non-null  object \n",
      " 28  SIGNAL_FLAG_DESC       878343 non-null  object \n",
      " 29  SIGNAL_FLAG            878343 non-null  object \n",
      " 30  C_M_ZONE_FLAG          878343 non-null  object \n",
      " 31  AGENCY_CODE            878343 non-null  object \n",
      " 32  AREA_CODE              878343 non-null  object \n",
      " 33  HARM_EVENT_DESC1       282884 non-null  object \n",
      " 34  HARM_EVENT_CODE1       878343 non-null  float64\n",
      " 35  HARM_EVENT_DESC2       878343 non-null  object \n",
      " 36  HARM_EVENT_CODE2       878343 non-null  float64\n",
      " 37  RTE_NO                 702722 non-null  float64\n",
      " 38  ROUTE_TYPE_CODE        704483 non-null  object \n",
      " 39  RTE_SUFFIX             18031 non-null   object \n",
      " 40  LOG_MILE               788015 non-null  float64\n",
      " 41  LOGMILE_DIR_FLAG_DESC  707681 non-null  object \n",
      " 42  LOGMILE_DIR_FLAG       707699 non-null  object \n",
      " 43  MAINROAD_NAME          791503 non-null  object \n",
      " 44  DISTANCE               772976 non-null  float64\n",
      " 45  FEET_MILES_FLAG_DESC   299396 non-null  object \n",
      " 46  FEET_MILES_FLAG        791511 non-null  object \n",
      " 47  DISTANCE_DIR_FLAG      788134 non-null  object \n",
      " 48  REFERENCE_NO           695509 non-null  float64\n",
      " 49  REFERENCE_TYPE_CODE    704721 non-null  object \n",
      " 50  REFERENCE_SUFFIX       19077 non-null   object \n",
      " 51  REFERENCE_ROAD_NAME    790703 non-null  object \n",
      " 52  LATITUDE               878343 non-null  float64\n",
      " 53  LONGITUDE              878343 non-null  float64\n",
      " 54  LOCATION               878343 non-null  object \n",
      " 55  Counties               876774 non-null  float64\n",
      "dtypes: float64(20), int64(3), object(33)\n",
      "memory usage: 375.3+ MB\n"
     ]
    }
   ],
   "source": [
    "# Checking for information\n",
    "crash.info()"
   ]
  },
  {
   "cell_type": "code",
   "execution_count": 4,
   "id": "7f7f8fe7",
   "metadata": {},
   "outputs": [
    {
     "data": {
      "text/plain": [
       "(878343, 56)"
      ]
     },
     "execution_count": 4,
     "metadata": {},
     "output_type": "execute_result"
    }
   ],
   "source": [
    "crash.shape"
   ]
  },
  {
   "cell_type": "markdown",
   "id": "b7f2c131",
   "metadata": {},
   "source": [
    "### Checking for specific columns and values"
   ]
  },
  {
   "cell_type": "code",
   "execution_count": 5,
   "id": "1f15cf82",
   "metadata": {},
   "outputs": [
    {
     "name": "stdout",
     "output_type": "stream",
     "text": [
      "Index(['YEAR', 'QUARTER', 'LIGHT_DESC', 'LIGHT_CODE', 'COUNTY_DESC',\n",
      "       'COUNTY_NO', 'MUNI_DESC', 'MUNI_CODE', 'JUNCTION_DESC', 'JUNCTION_CODE',\n",
      "       'COLLISION_TYPE_DESC', 'COLLISION_TYPE_CODE', 'SURF_COND_DESC',\n",
      "       'SURF_COND_CODE', 'LANE_CODE', 'RD_COND_DESC', 'RD_COND_CODE',\n",
      "       'RD_DIV_DESC', 'RD_DIV_CODE', 'FIX_OBJ_DESC', 'FIX_OBJ_CODE',\n",
      "       'REPORT_NO', 'REPORT_TYPE', 'WEATHER_DESC', 'WEATHER_CODE', 'ACC_DATE',\n",
      "       'ACC_TIME', 'LOC_CODE', 'SIGNAL_FLAG_DESC', 'SIGNAL_FLAG',\n",
      "       'C_M_ZONE_FLAG', 'AGENCY_CODE', 'AREA_CODE', 'HARM_EVENT_DESC1',\n",
      "       'HARM_EVENT_CODE1', 'HARM_EVENT_DESC2', 'HARM_EVENT_CODE2', 'RTE_NO',\n",
      "       'ROUTE_TYPE_CODE', 'RTE_SUFFIX', 'LOG_MILE', 'LOGMILE_DIR_FLAG_DESC',\n",
      "       'LOGMILE_DIR_FLAG', 'MAINROAD_NAME', 'DISTANCE', 'FEET_MILES_FLAG_DESC',\n",
      "       'FEET_MILES_FLAG', 'DISTANCE_DIR_FLAG', 'REFERENCE_NO',\n",
      "       'REFERENCE_TYPE_CODE', 'REFERENCE_SUFFIX', 'REFERENCE_ROAD_NAME',\n",
      "       'LATITUDE', 'LONGITUDE', 'LOCATION', 'Counties'],\n",
      "      dtype='object')\n"
     ]
    }
   ],
   "source": [
    "# Print example of all the columns\n",
    "print(crash.columns)"
   ]
  },
  {
   "cell_type": "markdown",
   "id": "b21f6a8a",
   "metadata": {},
   "source": [
    "### Checking for distinct values for specific columns"
   ]
  },
  {
   "cell_type": "code",
   "execution_count": 6,
   "id": "969b6a95",
   "metadata": {},
   "outputs": [
    {
     "name": "stdout",
     "output_type": "stream",
     "text": [
      "Property Damage Crash\n",
      "Injury Crash\n",
      "Fatal Crash\n",
      "nan\n"
     ]
    }
   ],
   "source": [
    "# Checking for the values in report types \n",
    "reports = crash['REPORT_TYPE'].unique()\n",
    "\n",
    "for REPORT_TYPE in reports: \n",
    "    print(REPORT_TYPE)"
   ]
  },
  {
   "cell_type": "code",
   "execution_count": 7,
   "id": "b2c64051",
   "metadata": {},
   "outputs": [
    {
     "name": "stdout",
     "output_type": "stream",
     "text": [
      "Other\n",
      "Same Movement Angle\n",
      "Single Vehicle\n",
      "Unknown\n",
      "Same Direction Rear End\n",
      "Head On\n",
      "Same Direction Sideswipe\n",
      "Angle Meets Right Turn\n",
      "Not Applicable\n",
      "Same Direction Right Turn\n",
      "Angle Meets Left Turn Head On\n",
      "Opposite Direction Both Left Turn\n",
      "Opposite Direction Sideswipe\n",
      "Same Direction Rear End Left Turn\n",
      "Angle Meets Left Turn\n",
      "Same Direction Left Turn\n",
      "Head On Left Turn\n",
      "Same Direction Rear End Right Turn\n",
      "Same Direction Both Left Turn\n"
     ]
    }
   ],
   "source": [
    "# Checking for collision type \n",
    "collision = crash['COLLISION_TYPE_DESC'].unique()\n",
    "\n",
    "for COLLISION_TYPE_DESC in collision: \n",
    "    print(COLLISION_TYPE_DESC)"
   ]
  },
  {
   "cell_type": "code",
   "execution_count": 8,
   "id": "3b27febd",
   "metadata": {},
   "outputs": [
    {
     "name": "stdout",
     "output_type": "stream",
     "text": [
      "Parked Vehicle\n",
      "Other Vehicle\n",
      "Fixed Object\n",
      "Pedestrian\n",
      "Bicycle\n",
      "Other\n",
      "nan\n",
      "Backing\n",
      "Off Road\n",
      "Not Applicable\n",
      "Other Object\n",
      "Unknown\n",
      "Other Non Collision\n",
      "Overturn\n",
      "Units Separated\n",
      "Animal\n",
      "Explosion or Fire\n",
      "Other Pedalcycle\n",
      "Other Conveyance\n",
      "U-turn\n",
      "Downhill Roadway\n",
      "Thrown or Falling Object\n",
      "Fell Jumped from Motor Vehicle\n",
      "Jackknife\n",
      "Railway Train\n",
      "Spilled Cargo\n",
      "Immersion\n"
     ]
    }
   ],
   "source": [
    "# Checking for the values in harm event \n",
    "harm = crash['HARM_EVENT_DESC1'].unique()\n",
    "\n",
    "for HARM_EVENT_DESC1 in harm:\n",
    "    print(HARM_EVENT_DESC1)"
   ]
  },
  {
   "cell_type": "code",
   "execution_count": 9,
   "id": "3654b31c",
   "metadata": {},
   "outputs": [
    {
     "name": "stdout",
     "output_type": "stream",
     "text": [
      "nan\n",
      "No Defects\n",
      "Not Applicable\n",
      "Unknown\n",
      "Holes, Ruts, Etc.\n",
      "Loose Surface Material\n",
      "Other\n",
      "Foreign Material\n",
      "Shoulder Defect\n",
      "View Obstructed\n",
      "Obstruction Not Signaled\n",
      "Obstruction Not Lighted\n"
     ]
    }
   ],
   "source": [
    "# Checking for the road condition \n",
    "road = crash['RD_COND_DESC'].unique()\n",
    "\n",
    "for RD_COND_DESC in road:\n",
    "    print(RD_COND_DESC)\n"
   ]
  },
  {
   "cell_type": "code",
   "execution_count": 10,
   "id": "90e9cafc",
   "metadata": {},
   "outputs": [
    {
     "data": {
      "text/plain": [
       "YEAR                          0\n",
       "QUARTER                       0\n",
       "LIGHT_DESC                37318\n",
       "LIGHT_CODE                    0\n",
       "COUNTY_DESC                  14\n",
       "COUNTY_NO                    14\n",
       "MUNI_DESC                878343\n",
       "MUNI_CODE                218386\n",
       "JUNCTION_DESC            118224\n",
       "JUNCTION_CODE             86831\n",
       "COLLISION_TYPE_DESC           0\n",
       "COLLISION_TYPE_CODE           0\n",
       "SURF_COND_DESC            89236\n",
       "SURF_COND_CODE            86831\n",
       "LANE_CODE                210260\n",
       "RD_COND_DESC              86831\n",
       "RD_COND_CODE              86831\n",
       "RD_DIV_DESC               91486\n",
       "RD_DIV_CODE               86831\n",
       "FIX_OBJ_DESC              47111\n",
       "FIX_OBJ_CODE                  0\n",
       "REPORT_NO                     0\n",
       "REPORT_TYPE              110733\n",
       "WEATHER_DESC             427866\n",
       "WEATHER_CODE                  0\n",
       "ACC_DATE                      0\n",
       "ACC_TIME                      0\n",
       "LOC_CODE                 477155\n",
       "SIGNAL_FLAG_DESC              0\n",
       "SIGNAL_FLAG                   0\n",
       "C_M_ZONE_FLAG                 0\n",
       "AGENCY_CODE                   0\n",
       "AREA_CODE                     0\n",
       "HARM_EVENT_DESC1         595459\n",
       "HARM_EVENT_CODE1              0\n",
       "HARM_EVENT_DESC2              0\n",
       "HARM_EVENT_CODE2              0\n",
       "RTE_NO                   175621\n",
       "ROUTE_TYPE_CODE          173860\n",
       "RTE_SUFFIX               860312\n",
       "LOG_MILE                  90328\n",
       "LOGMILE_DIR_FLAG_DESC    170662\n",
       "LOGMILE_DIR_FLAG         170644\n",
       "MAINROAD_NAME             86840\n",
       "DISTANCE                 105367\n",
       "FEET_MILES_FLAG_DESC     578947\n",
       "FEET_MILES_FLAG           86832\n",
       "DISTANCE_DIR_FLAG         90209\n",
       "REFERENCE_NO             182834\n",
       "REFERENCE_TYPE_CODE      173622\n",
       "REFERENCE_SUFFIX         859266\n",
       "REFERENCE_ROAD_NAME       87640\n",
       "LATITUDE                      0\n",
       "LONGITUDE                     0\n",
       "LOCATION                      0\n",
       "Counties                   1569\n",
       "dtype: int64"
      ]
     },
     "execution_count": 10,
     "metadata": {},
     "output_type": "execute_result"
    }
   ],
   "source": [
    "# Checking for null values \n",
    "crash.isnull().sum()"
   ]
  },
  {
   "cell_type": "code",
   "execution_count": 11,
   "id": "edb6db3d",
   "metadata": {},
   "outputs": [],
   "source": [
    "# Using specific columns from the original dataframe but making a new dataframe \n",
    "columns = ['COUNTY_DESC', 'YEAR', 'QUARTER', 'COLLISION_TYPE_DESC', 'RD_COND_DESC', 'RD_DIV_DESC', \n",
    "'LIGHT_DESC','SURF_COND_DESC','WEATHER_DESC', 'HARM_EVENT_DESC1', 'HARM_EVENT_DESC2', 'REPORT_TYPE', \n",
    "'FEET_MILES_FLAG_DESC', 'FIX_OBJ_DESC', 'ACC_DATE', 'ACC_TIME', 'SIGNAL_FLAG_DESC', 'C_M_ZONE_FLAG', \n",
    "'DISTANCE_DIR_FLAG', 'JUNCTION_DESC', 'LOG_MILE', 'LOGMILE_DIR_FLAG_DESC', 'DISTANCE', 'REFERENCE_ROAD_NAME']\n",
    "\n",
    "# Copying the columns into new dataframe \n",
    "df_crash = crash[columns].copy()"
   ]
  },
  {
   "cell_type": "code",
   "execution_count": 12,
   "id": "3e39d735",
   "metadata": {},
   "outputs": [],
   "source": [
    "# Joining fatal and injury together as severe crash since they are similar \n",
    "df_crash['REPORT_TYPE'] = df_crash['REPORT_TYPE'].replace({'Fatal Crash': 'Severe Crash', 'Injury Crash': 'Severe Crash'})"
   ]
  },
  {
   "cell_type": "code",
   "execution_count": 13,
   "id": "024dad8e",
   "metadata": {},
   "outputs": [],
   "source": [
    "# Dropping rows with nan in REPORT_TYPE \n",
    "df_crash = df_crash.dropna(subset=['REPORT_TYPE'])"
   ]
  },
  {
   "cell_type": "code",
   "execution_count": 14,
   "id": "820dfe1a",
   "metadata": {},
   "outputs": [
    {
     "data": {
      "text/plain": [
       "Property Damage Crash    550429\n",
       "Severe Crash             217181\n",
       "Name: REPORT_TYPE, dtype: int64"
      ]
     },
     "execution_count": 14,
     "metadata": {},
     "output_type": "execute_result"
    }
   ],
   "source": [
    "# Checking the counts for all columns \n",
    "df_crash.REPORT_TYPE.value_counts()"
   ]
  },
  {
   "cell_type": "code",
   "execution_count": 15,
   "id": "35d6c7c1",
   "metadata": {},
   "outputs": [
    {
     "data": {
      "text/html": [
       "<div>\n",
       "<style scoped>\n",
       "    .dataframe tbody tr th:only-of-type {\n",
       "        vertical-align: middle;\n",
       "    }\n",
       "\n",
       "    .dataframe tbody tr th {\n",
       "        vertical-align: top;\n",
       "    }\n",
       "\n",
       "    .dataframe thead th {\n",
       "        text-align: right;\n",
       "    }\n",
       "</style>\n",
       "<table border=\"1\" class=\"dataframe\">\n",
       "  <thead>\n",
       "    <tr style=\"text-align: right;\">\n",
       "      <th></th>\n",
       "      <th>COUNTY_DESC</th>\n",
       "      <th>YEAR</th>\n",
       "      <th>QUARTER</th>\n",
       "      <th>COLLISION_TYPE_DESC</th>\n",
       "      <th>RD_COND_DESC</th>\n",
       "      <th>RD_DIV_DESC</th>\n",
       "      <th>LIGHT_DESC</th>\n",
       "      <th>SURF_COND_DESC</th>\n",
       "      <th>WEATHER_DESC</th>\n",
       "      <th>HARM_EVENT_DESC1</th>\n",
       "      <th>...</th>\n",
       "      <th>ACC_DATE</th>\n",
       "      <th>ACC_TIME</th>\n",
       "      <th>SIGNAL_FLAG_DESC</th>\n",
       "      <th>C_M_ZONE_FLAG</th>\n",
       "      <th>DISTANCE_DIR_FLAG</th>\n",
       "      <th>JUNCTION_DESC</th>\n",
       "      <th>LOG_MILE</th>\n",
       "      <th>LOGMILE_DIR_FLAG_DESC</th>\n",
       "      <th>DISTANCE</th>\n",
       "      <th>REFERENCE_ROAD_NAME</th>\n",
       "    </tr>\n",
       "  </thead>\n",
       "  <tbody>\n",
       "    <tr>\n",
       "      <th>454939</th>\n",
       "      <td>Worcester</td>\n",
       "      <td>2018</td>\n",
       "      <td>Q1</td>\n",
       "      <td>Other</td>\n",
       "      <td>No Defects</td>\n",
       "      <td>Two-way, Not Divided</td>\n",
       "      <td>Daylight</td>\n",
       "      <td>Not Applicable</td>\n",
       "      <td>Clear</td>\n",
       "      <td>NaN</td>\n",
       "      <td>...</td>\n",
       "      <td>20180209</td>\n",
       "      <td>14:23:00</td>\n",
       "      <td>No</td>\n",
       "      <td>N</td>\n",
       "      <td>W</td>\n",
       "      <td>Commercial Driveway</td>\n",
       "      <td>0.34</td>\n",
       "      <td>West</td>\n",
       "      <td>0.0</td>\n",
       "      <td>COUNTRY CLUB RD</td>\n",
       "    </tr>\n",
       "    <tr>\n",
       "      <th>515966</th>\n",
       "      <td>Montgomery</td>\n",
       "      <td>2019</td>\n",
       "      <td>Q1</td>\n",
       "      <td>Same Direction Rear End</td>\n",
       "      <td>No Defects</td>\n",
       "      <td>Two-way, Divided, Unprotected (painted &gt;4 feet...</td>\n",
       "      <td>Daylight</td>\n",
       "      <td>Wet</td>\n",
       "      <td>Clear</td>\n",
       "      <td>NaN</td>\n",
       "      <td>...</td>\n",
       "      <td>20190322</td>\n",
       "      <td>16:39:00</td>\n",
       "      <td>Yes</td>\n",
       "      <td>N</td>\n",
       "      <td>S</td>\n",
       "      <td>Intersection Related</td>\n",
       "      <td>8.82</td>\n",
       "      <td>North</td>\n",
       "      <td>0.2</td>\n",
       "      <td>NORBECK RD</td>\n",
       "    </tr>\n",
       "    <tr>\n",
       "      <th>668552</th>\n",
       "      <td>Baltimore</td>\n",
       "      <td>2019</td>\n",
       "      <td>Q1</td>\n",
       "      <td>Unknown</td>\n",
       "      <td>NaN</td>\n",
       "      <td>NaN</td>\n",
       "      <td>Daylight</td>\n",
       "      <td>NaN</td>\n",
       "      <td>Clear</td>\n",
       "      <td>NaN</td>\n",
       "      <td>...</td>\n",
       "      <td>20190326</td>\n",
       "      <td>12:50:00</td>\n",
       "      <td>No</td>\n",
       "      <td>N</td>\n",
       "      <td>NaN</td>\n",
       "      <td>NaN</td>\n",
       "      <td>NaN</td>\n",
       "      <td>NaN</td>\n",
       "      <td>NaN</td>\n",
       "      <td>NaN</td>\n",
       "    </tr>\n",
       "    <tr>\n",
       "      <th>93632</th>\n",
       "      <td>Prince George's</td>\n",
       "      <td>2021</td>\n",
       "      <td>Q1</td>\n",
       "      <td>Single Vehicle</td>\n",
       "      <td>No Defects</td>\n",
       "      <td>Two-way, Divided, Positive Median Barrier</td>\n",
       "      <td>Daylight</td>\n",
       "      <td>Dry</td>\n",
       "      <td>Not Applicable</td>\n",
       "      <td>Overturn</td>\n",
       "      <td>...</td>\n",
       "      <td>20210207</td>\n",
       "      <td>13:51:00</td>\n",
       "      <td>No</td>\n",
       "      <td>N</td>\n",
       "      <td>N</td>\n",
       "      <td>Not Applicable</td>\n",
       "      <td>26.11</td>\n",
       "      <td>North</td>\n",
       "      <td>0.5</td>\n",
       "      <td>CAPITAL BELTWAY</td>\n",
       "    </tr>\n",
       "    <tr>\n",
       "      <th>240703</th>\n",
       "      <td>Caroline</td>\n",
       "      <td>2022</td>\n",
       "      <td>Q3</td>\n",
       "      <td>Single Vehicle</td>\n",
       "      <td>No Defects</td>\n",
       "      <td>Two-way, Divided, Unprotected (painted &gt;4 feet...</td>\n",
       "      <td>Dark No Lights</td>\n",
       "      <td>Dry</td>\n",
       "      <td>NaN</td>\n",
       "      <td>Fixed Object</td>\n",
       "      <td>...</td>\n",
       "      <td>20220714</td>\n",
       "      <td>02:20:00</td>\n",
       "      <td>No</td>\n",
       "      <td>N</td>\n",
       "      <td>W</td>\n",
       "      <td>Non Intersection</td>\n",
       "      <td>1.75</td>\n",
       "      <td>West</td>\n",
       "      <td>1.0</td>\n",
       "      <td>WILLOUGHBY RD</td>\n",
       "    </tr>\n",
       "  </tbody>\n",
       "</table>\n",
       "<p>5 rows × 24 columns</p>\n",
       "</div>"
      ],
      "text/plain": [
       "            COUNTY_DESC  YEAR QUARTER      COLLISION_TYPE_DESC RD_COND_DESC  \\\n",
       "454939        Worcester  2018      Q1                    Other   No Defects   \n",
       "515966       Montgomery  2019      Q1  Same Direction Rear End   No Defects   \n",
       "668552        Baltimore  2019      Q1                  Unknown          NaN   \n",
       "93632   Prince George's  2021      Q1           Single Vehicle   No Defects   \n",
       "240703         Caroline  2022      Q3           Single Vehicle   No Defects   \n",
       "\n",
       "                                              RD_DIV_DESC      LIGHT_DESC  \\\n",
       "454939                               Two-way, Not Divided        Daylight   \n",
       "515966  Two-way, Divided, Unprotected (painted >4 feet...        Daylight   \n",
       "668552                                                NaN        Daylight   \n",
       "93632           Two-way, Divided, Positive Median Barrier        Daylight   \n",
       "240703  Two-way, Divided, Unprotected (painted >4 feet...  Dark No Lights   \n",
       "\n",
       "        SURF_COND_DESC    WEATHER_DESC HARM_EVENT_DESC1  ...  ACC_DATE  \\\n",
       "454939  Not Applicable           Clear              NaN  ...  20180209   \n",
       "515966             Wet           Clear              NaN  ...  20190322   \n",
       "668552             NaN           Clear              NaN  ...  20190326   \n",
       "93632              Dry  Not Applicable         Overturn  ...  20210207   \n",
       "240703             Dry             NaN     Fixed Object  ...  20220714   \n",
       "\n",
       "        ACC_TIME SIGNAL_FLAG_DESC C_M_ZONE_FLAG  DISTANCE_DIR_FLAG  \\\n",
       "454939  14:23:00               No             N                  W   \n",
       "515966  16:39:00              Yes             N                  S   \n",
       "668552  12:50:00               No             N                NaN   \n",
       "93632   13:51:00               No             N                  N   \n",
       "240703  02:20:00               No             N                  W   \n",
       "\n",
       "               JUNCTION_DESC LOG_MILE LOGMILE_DIR_FLAG_DESC DISTANCE  \\\n",
       "454939   Commercial Driveway     0.34                  West      0.0   \n",
       "515966  Intersection Related     8.82                 North      0.2   \n",
       "668552                   NaN      NaN                   NaN      NaN   \n",
       "93632         Not Applicable    26.11                 North      0.5   \n",
       "240703      Non Intersection     1.75                  West      1.0   \n",
       "\n",
       "       REFERENCE_ROAD_NAME  \n",
       "454939     COUNTRY CLUB RD  \n",
       "515966          NORBECK RD  \n",
       "668552                 NaN  \n",
       "93632      CAPITAL BELTWAY  \n",
       "240703       WILLOUGHBY RD  \n",
       "\n",
       "[5 rows x 24 columns]"
      ]
     },
     "execution_count": 15,
     "metadata": {},
     "output_type": "execute_result"
    }
   ],
   "source": [
    "# Displaying the new dataframe \n",
    "df_crash.sample(5)"
   ]
  },
  {
   "cell_type": "code",
   "execution_count": 16,
   "id": "90f7117a",
   "metadata": {},
   "outputs": [
    {
     "data": {
      "text/plain": [
       "COUNTY_DESC                  14\n",
       "YEAR                          0\n",
       "QUARTER                       0\n",
       "COLLISION_TYPE_DESC           0\n",
       "RD_COND_DESC              74158\n",
       "RD_DIV_DESC               78127\n",
       "LIGHT_DESC                29945\n",
       "SURF_COND_DESC            76110\n",
       "WEATHER_DESC             345004\n",
       "HARM_EVENT_DESC1         484726\n",
       "HARM_EVENT_DESC2              0\n",
       "REPORT_TYPE                   0\n",
       "FEET_MILES_FLAG_DESC     468214\n",
       "FIX_OBJ_DESC              41599\n",
       "ACC_DATE                      0\n",
       "ACC_TIME                      0\n",
       "SIGNAL_FLAG_DESC              0\n",
       "C_M_ZONE_FLAG                 0\n",
       "DISTANCE_DIR_FLAG         74158\n",
       "JUNCTION_DESC            100660\n",
       "LOG_MILE                  74159\n",
       "LOGMILE_DIR_FLAG_DESC    149460\n",
       "DISTANCE                  86823\n",
       "REFERENCE_ROAD_NAME       74932\n",
       "dtype: int64"
      ]
     },
     "execution_count": 16,
     "metadata": {},
     "output_type": "execute_result"
    }
   ],
   "source": [
    "# Checking for nulls \n",
    "df_crash.isnull().sum()"
   ]
  },
  {
   "cell_type": "code",
   "execution_count": 17,
   "id": "a8c13bc1",
   "metadata": {},
   "outputs": [
    {
     "data": {
      "text/html": [
       "<div>\n",
       "<style scoped>\n",
       "    .dataframe tbody tr th:only-of-type {\n",
       "        vertical-align: middle;\n",
       "    }\n",
       "\n",
       "    .dataframe tbody tr th {\n",
       "        vertical-align: top;\n",
       "    }\n",
       "\n",
       "    .dataframe thead th {\n",
       "        text-align: right;\n",
       "    }\n",
       "</style>\n",
       "<table border=\"1\" class=\"dataframe\">\n",
       "  <thead>\n",
       "    <tr style=\"text-align: right;\">\n",
       "      <th></th>\n",
       "      <th>COUNTY_DESC</th>\n",
       "      <th>YEAR</th>\n",
       "      <th>QUARTER</th>\n",
       "      <th>COLLISION_TYPE_DESC</th>\n",
       "      <th>RD_COND_DESC</th>\n",
       "      <th>RD_DIV_DESC</th>\n",
       "      <th>LIGHT_DESC</th>\n",
       "      <th>SURF_COND_DESC</th>\n",
       "      <th>WEATHER_DESC</th>\n",
       "      <th>HARM_EVENT_DESC1</th>\n",
       "      <th>...</th>\n",
       "      <th>ACC_DATE</th>\n",
       "      <th>ACC_TIME</th>\n",
       "      <th>SIGNAL_FLAG_DESC</th>\n",
       "      <th>C_M_ZONE_FLAG</th>\n",
       "      <th>DISTANCE_DIR_FLAG</th>\n",
       "      <th>JUNCTION_DESC</th>\n",
       "      <th>LOG_MILE</th>\n",
       "      <th>LOGMILE_DIR_FLAG_DESC</th>\n",
       "      <th>DISTANCE</th>\n",
       "      <th>REFERENCE_ROAD_NAME</th>\n",
       "    </tr>\n",
       "  </thead>\n",
       "  <tbody>\n",
       "    <tr>\n",
       "      <th>61237</th>\n",
       "      <td>Howard</td>\n",
       "      <td>2020</td>\n",
       "      <td>Q3</td>\n",
       "      <td>Single Vehicle</td>\n",
       "      <td>No Defects</td>\n",
       "      <td>Two-way, Not Divided</td>\n",
       "      <td>Daylight</td>\n",
       "      <td>Wet</td>\n",
       "      <td>Raining</td>\n",
       "      <td>Fixed Object</td>\n",
       "      <td>...</td>\n",
       "      <td>20200910</td>\n",
       "      <td>13:27:00</td>\n",
       "      <td>No</td>\n",
       "      <td>N</td>\n",
       "      <td>E</td>\n",
       "      <td>Non Intersection</td>\n",
       "      <td>17.68</td>\n",
       "      <td>East</td>\n",
       "      <td>0.5</td>\n",
       "      <td>COLUMBIA PIKE</td>\n",
       "    </tr>\n",
       "    <tr>\n",
       "      <th>181964</th>\n",
       "      <td>Prince George's</td>\n",
       "      <td>2022</td>\n",
       "      <td>Q1</td>\n",
       "      <td>Single Vehicle</td>\n",
       "      <td>No Defects</td>\n",
       "      <td>Two-way, Divided, Unprotected (painted &gt;4 feet...</td>\n",
       "      <td>Dark No Lights</td>\n",
       "      <td>Unknown</td>\n",
       "      <td>Unknown</td>\n",
       "      <td>Pedestrian</td>\n",
       "      <td>...</td>\n",
       "      <td>20220118</td>\n",
       "      <td>18:07:00</td>\n",
       "      <td>No</td>\n",
       "      <td>N</td>\n",
       "      <td>S</td>\n",
       "      <td>Not Applicable</td>\n",
       "      <td>1.13</td>\n",
       "      <td>South</td>\n",
       "      <td>1.0</td>\n",
       "      <td>HASTINGS DR</td>\n",
       "    </tr>\n",
       "    <tr>\n",
       "      <th>549621</th>\n",
       "      <td>Baltimore City</td>\n",
       "      <td>2019</td>\n",
       "      <td>Q2</td>\n",
       "      <td>Single Vehicle</td>\n",
       "      <td>No Defects</td>\n",
       "      <td>Two-way, Not Divided</td>\n",
       "      <td>Dark Lights On</td>\n",
       "      <td>Dry</td>\n",
       "      <td>Clear</td>\n",
       "      <td>Unknown</td>\n",
       "      <td>...</td>\n",
       "      <td>20190428</td>\n",
       "      <td>20:47:00</td>\n",
       "      <td>Yes</td>\n",
       "      <td>N</td>\n",
       "      <td>E</td>\n",
       "      <td>Intersection</td>\n",
       "      <td>0.42</td>\n",
       "      <td>East</td>\n",
       "      <td>0.0</td>\n",
       "      <td>FALLSWAY</td>\n",
       "    </tr>\n",
       "    <tr>\n",
       "      <th>764234</th>\n",
       "      <td>Baltimore</td>\n",
       "      <td>2019</td>\n",
       "      <td>Q1</td>\n",
       "      <td>Same Direction Rear End</td>\n",
       "      <td>No Defects</td>\n",
       "      <td>Two-way, Not Divided</td>\n",
       "      <td>Not Applicable</td>\n",
       "      <td>Snow</td>\n",
       "      <td>Not Applicable</td>\n",
       "      <td>Unknown</td>\n",
       "      <td>...</td>\n",
       "      <td>20190211</td>\n",
       "      <td>17:42:00</td>\n",
       "      <td>No</td>\n",
       "      <td>N</td>\n",
       "      <td>N</td>\n",
       "      <td>Non Intersection</td>\n",
       "      <td>0.49</td>\n",
       "      <td>North</td>\n",
       "      <td>25.0</td>\n",
       "      <td>FROST HILL DR</td>\n",
       "    </tr>\n",
       "    <tr>\n",
       "      <th>603142</th>\n",
       "      <td>Anne Arundel</td>\n",
       "      <td>2017</td>\n",
       "      <td>Q1</td>\n",
       "      <td>Single Vehicle</td>\n",
       "      <td>No Defects</td>\n",
       "      <td>One-way Trafficway</td>\n",
       "      <td>Dark Lights On</td>\n",
       "      <td>Dry</td>\n",
       "      <td>Clear</td>\n",
       "      <td>Unknown</td>\n",
       "      <td>...</td>\n",
       "      <td>20170220</td>\n",
       "      <td>21:27:00</td>\n",
       "      <td>No</td>\n",
       "      <td>N</td>\n",
       "      <td>W</td>\n",
       "      <td>Non Intersection</td>\n",
       "      <td>9.59</td>\n",
       "      <td>East</td>\n",
       "      <td>Unknown</td>\n",
       "      <td>EXIT #16</td>\n",
       "    </tr>\n",
       "  </tbody>\n",
       "</table>\n",
       "<p>5 rows × 24 columns</p>\n",
       "</div>"
      ],
      "text/plain": [
       "            COUNTY_DESC  YEAR QUARTER      COLLISION_TYPE_DESC RD_COND_DESC  \\\n",
       "61237            Howard  2020      Q3           Single Vehicle   No Defects   \n",
       "181964  Prince George's  2022      Q1           Single Vehicle   No Defects   \n",
       "549621   Baltimore City  2019      Q2           Single Vehicle   No Defects   \n",
       "764234        Baltimore  2019      Q1  Same Direction Rear End   No Defects   \n",
       "603142     Anne Arundel  2017      Q1           Single Vehicle   No Defects   \n",
       "\n",
       "                                              RD_DIV_DESC      LIGHT_DESC  \\\n",
       "61237                                Two-way, Not Divided        Daylight   \n",
       "181964  Two-way, Divided, Unprotected (painted >4 feet...  Dark No Lights   \n",
       "549621                               Two-way, Not Divided  Dark Lights On   \n",
       "764234                               Two-way, Not Divided  Not Applicable   \n",
       "603142                                 One-way Trafficway  Dark Lights On   \n",
       "\n",
       "       SURF_COND_DESC    WEATHER_DESC HARM_EVENT_DESC1  ...  ACC_DATE  \\\n",
       "61237             Wet         Raining     Fixed Object  ...  20200910   \n",
       "181964        Unknown         Unknown       Pedestrian  ...  20220118   \n",
       "549621            Dry           Clear          Unknown  ...  20190428   \n",
       "764234           Snow  Not Applicable          Unknown  ...  20190211   \n",
       "603142            Dry           Clear          Unknown  ...  20170220   \n",
       "\n",
       "        ACC_TIME SIGNAL_FLAG_DESC C_M_ZONE_FLAG  DISTANCE_DIR_FLAG  \\\n",
       "61237   13:27:00               No             N                  E   \n",
       "181964  18:07:00               No             N                  S   \n",
       "549621  20:47:00              Yes             N                  E   \n",
       "764234  17:42:00               No             N                  N   \n",
       "603142  21:27:00               No             N                  W   \n",
       "\n",
       "           JUNCTION_DESC LOG_MILE LOGMILE_DIR_FLAG_DESC DISTANCE  \\\n",
       "61237   Non Intersection    17.68                  East      0.5   \n",
       "181964    Not Applicable     1.13                 South      1.0   \n",
       "549621      Intersection     0.42                  East      0.0   \n",
       "764234  Non Intersection     0.49                 North     25.0   \n",
       "603142  Non Intersection     9.59                  East  Unknown   \n",
       "\n",
       "       REFERENCE_ROAD_NAME  \n",
       "61237        COLUMBIA PIKE  \n",
       "181964         HASTINGS DR  \n",
       "549621            FALLSWAY  \n",
       "764234       FROST HILL DR  \n",
       "603142            EXIT #16  \n",
       "\n",
       "[5 rows x 24 columns]"
      ]
     },
     "execution_count": 17,
     "metadata": {},
     "output_type": "execute_result"
    }
   ],
   "source": [
    "# Changing all the columns from new dataframe where they are null as 'unknown' because it wasnt reported in accident \n",
    "df_crash.fillna('Unknown', inplace=True)\n",
    "df_crash.sample(5)"
   ]
  },
  {
   "cell_type": "raw",
   "id": "851bab38",
   "metadata": {},
   "source": [
    "# Dropping the columns that says 'Unknown' to perform logistic regression\n",
    "df_crash = df_crash[df_crash['REPORT_TYPE'] != 'Unknown']"
   ]
  },
  {
   "cell_type": "code",
   "execution_count": 18,
   "id": "b9edc7e8",
   "metadata": {},
   "outputs": [
    {
     "name": "stdout",
     "output_type": "stream",
     "text": [
      "<class 'pandas.core.frame.DataFrame'>\n",
      "Int64Index: 767610 entries, 0 to 878342\n",
      "Data columns (total 24 columns):\n",
      " #   Column                 Non-Null Count   Dtype \n",
      "---  ------                 --------------   ----- \n",
      " 0   COUNTY_DESC            767610 non-null  object\n",
      " 1   YEAR                   767610 non-null  int64 \n",
      " 2   QUARTER                767610 non-null  object\n",
      " 3   COLLISION_TYPE_DESC    767610 non-null  object\n",
      " 4   RD_COND_DESC           767610 non-null  object\n",
      " 5   RD_DIV_DESC            767610 non-null  object\n",
      " 6   LIGHT_DESC             767610 non-null  object\n",
      " 7   SURF_COND_DESC         767610 non-null  object\n",
      " 8   WEATHER_DESC           767610 non-null  object\n",
      " 9   HARM_EVENT_DESC1       767610 non-null  object\n",
      " 10  HARM_EVENT_DESC2       767610 non-null  object\n",
      " 11  REPORT_TYPE            767610 non-null  object\n",
      " 12  FEET_MILES_FLAG_DESC   767610 non-null  object\n",
      " 13  FIX_OBJ_DESC           767610 non-null  object\n",
      " 14  ACC_DATE               767610 non-null  int64 \n",
      " 15  ACC_TIME               767610 non-null  object\n",
      " 16  SIGNAL_FLAG_DESC       767610 non-null  object\n",
      " 17  C_M_ZONE_FLAG          767610 non-null  object\n",
      " 18  DISTANCE_DIR_FLAG      767610 non-null  object\n",
      " 19  JUNCTION_DESC          767610 non-null  object\n",
      " 20  LOG_MILE               767610 non-null  object\n",
      " 21  LOGMILE_DIR_FLAG_DESC  767610 non-null  object\n",
      " 22  DISTANCE               767610 non-null  object\n",
      " 23  REFERENCE_ROAD_NAME    767610 non-null  object\n",
      "dtypes: int64(2), object(22)\n",
      "memory usage: 146.4+ MB\n"
     ]
    }
   ],
   "source": [
    "df_crash.info()"
   ]
  },
  {
   "cell_type": "code",
   "execution_count": 19,
   "id": "1e9b80bc",
   "metadata": {},
   "outputs": [
    {
     "name": "stdout",
     "output_type": "stream",
     "text": [
      "Property Damage Crash\n",
      "Severe Crash\n"
     ]
    }
   ],
   "source": [
    "# Checking for the road condition \n",
    "report = df_crash['REPORT_TYPE'].unique()\n",
    "\n",
    "for REPORT_TYPE in report:\n",
    "    print(REPORT_TYPE)\n"
   ]
  },
  {
   "cell_type": "code",
   "execution_count": 20,
   "id": "b212f6db",
   "metadata": {},
   "outputs": [
    {
     "data": {
      "text/plain": [
       "COUNTY_DESC              0\n",
       "YEAR                     0\n",
       "QUARTER                  0\n",
       "COLLISION_TYPE_DESC      0\n",
       "RD_COND_DESC             0\n",
       "RD_DIV_DESC              0\n",
       "LIGHT_DESC               0\n",
       "SURF_COND_DESC           0\n",
       "WEATHER_DESC             0\n",
       "HARM_EVENT_DESC1         0\n",
       "HARM_EVENT_DESC2         0\n",
       "REPORT_TYPE              0\n",
       "FEET_MILES_FLAG_DESC     0\n",
       "FIX_OBJ_DESC             0\n",
       "ACC_DATE                 0\n",
       "ACC_TIME                 0\n",
       "SIGNAL_FLAG_DESC         0\n",
       "C_M_ZONE_FLAG            0\n",
       "DISTANCE_DIR_FLAG        0\n",
       "JUNCTION_DESC            0\n",
       "LOG_MILE                 0\n",
       "LOGMILE_DIR_FLAG_DESC    0\n",
       "DISTANCE                 0\n",
       "REFERENCE_ROAD_NAME      0\n",
       "dtype: int64"
      ]
     },
     "execution_count": 20,
     "metadata": {},
     "output_type": "execute_result"
    }
   ],
   "source": [
    "df_crash.isnull().sum()"
   ]
  },
  {
   "cell_type": "markdown",
   "id": "fde9a355",
   "metadata": {},
   "source": [
    "# EDA - Exploratory Data Analysis "
   ]
  },
  {
   "cell_type": "markdown",
   "id": "ca961842",
   "metadata": {},
   "source": [
    "## Crashes that occurred for each county in Maryland"
   ]
  },
  {
   "cell_type": "code",
   "execution_count": 21,
   "id": "dd0b0e74",
   "metadata": {},
   "outputs": [
    {
     "data": {
      "image/png": "[encoded data removed]",
      "text/plain": [
       "<Figure size 1200x600 with 1 Axes>"
      ]
     },
     "metadata": {},
     "output_type": "display_data"
    }
   ],
   "source": [
    "# Selecting the county column \n",
    "county = df_crash['COUNTY_DESC']\n",
    "\n",
    "# Counting the number of times each crash occurred for each county \n",
    "crash_count = county.value_counts()\n",
    "\n",
    "# Changing the color \n",
    "color = sns.color_palette('Paired', len(crash_count))\n",
    "\n",
    "# Creating bar plot \n",
    "plt.figure(figsize = (12,6))\n",
    "crash_count.plot(kind='bar', color=color)\n",
    "plt.title('Number of crashes for by County')\n",
    "plt.xlabel('County')\n",
    "plt.ylabel('Number of Crashes')\n",
    "plt.xticks(rotation=45)\n",
    "plt.tight_layout()\n",
    "\n",
    "# Displaying the bar plot \n",
    "plt.show()"
   ]
  },
  {
   "cell_type": "markdown",
   "id": "66ccba05",
   "metadata": {},
   "source": [
    "## Number of crashes per year"
   ]
  },
  {
   "cell_type": "code",
   "execution_count": 22,
   "id": "bab43c8d",
   "metadata": {},
   "outputs": [
    {
     "data": {
      "image/png": "[encoded data removed]",
      "text/plain": [
       "<Figure size 800x400 with 1 Axes>"
      ]
     },
     "metadata": {},
     "output_type": "display_data"
    }
   ],
   "source": [
    "# Selecting the year column \n",
    "years = df_crash['YEAR']\n",
    "\n",
    "# count the number of crashes per year \n",
    "year_crash = years.value_counts().sort_index()\n",
    "\n",
    "\n",
    "# Creating line plot \n",
    "plt.figure(figsize =(8,4))\n",
    "plt.plot(year_crash.index, year_crash.values, marker='o', linestyle='-', color='red')\n",
    "plt.title('Number of Crashes per Year')\n",
    "plt.xlabel('Year')\n",
    "plt.ylabel('Number of Crashes')\n",
    "plt.xticks(year_crash.index)\n",
    "plt.grid(True)\n",
    "\n",
    "# Displaying the plot \n",
    "plt.show()"
   ]
  },
  {
   "cell_type": "markdown",
   "id": "1d3ec97a",
   "metadata": {},
   "source": [
    "## Inclement weather condition vs crashes?"
   ]
  },
  {
   "cell_type": "code",
   "execution_count": 23,
   "id": "0cf55ac1",
   "metadata": {},
   "outputs": [
    {
     "data": {
      "image/png": "[encoded data removed]",
      "text/plain": [
       "<Figure size 1000x600 with 1 Axes>"
      ]
     },
     "metadata": {},
     "output_type": "display_data"
    }
   ],
   "source": [
    "# Selecting the weather condition column\n",
    "weather = df_crash['WEATHER_DESC']\n",
    "weather_crash = weather.value_counts() # Counting  the number of crashes for each weather condition \n",
    "\n",
    "# changing color \n",
    "color = sns.color_palette('coolwarm', len(crash_count))\n",
    "\n",
    "# Creating a scatter plot \n",
    "plt.figure(figsize=(10,6))\n",
    "weather_crash.plot(kind='bar', color=color)\n",
    "plt.title('Number of Crashes by various Weather Condition')\n",
    "plt.xlabel('Weather Condition')\n",
    "plt.ylabel('Number of Crashes')\n",
    "plt.xticks(rotation=45)\n",
    "plt.tight_layout()\n",
    "\n",
    "# Displaying the graph \n",
    "plt.show()"
   ]
  },
  {
   "cell_type": "markdown",
   "id": "ae5f8a6f",
   "metadata": {},
   "source": [
    "## County with the most crashes"
   ]
  },
  {
   "cell_type": "code",
   "execution_count": 27,
   "id": "273dd88d",
   "metadata": {},
   "outputs": [
    {
     "name": "stdout",
     "output_type": "stream",
     "text": [
      "Collecting squarify\n",
      "  Downloading squarify-0.4.3-py3-none-any.whl (4.3 kB)\n",
      "Installing collected packages: squarify\n",
      "Successfully installed squarify-0.4.3\n",
      "Note: you may need to restart the kernel to use updated packages.\n"
     ]
    }
   ],
   "source": [
    "pip install squarify"
   ]
  },
  {
   "cell_type": "code",
   "execution_count": 28,
   "id": "69444fda",
   "metadata": {},
   "outputs": [],
   "source": [
    "import matplotlib.pyplot as plt \n",
    "import squarify"
   ]
  },
  {
   "cell_type": "code",
   "execution_count": 51,
   "id": "b07ed2cf",
   "metadata": {},
   "outputs": [
    {
     "data": {
      "image/png": "[encoded data removed]",
      "text/plain": [
       "<Figure size 1500x1000 with 1 Axes>"
      ]
     },
     "metadata": {},
     "output_type": "display_data"
    }
   ],
   "source": [
    "# Calculating the count for each County in MD \n",
    "values_county = df_crash['COUNTY_DESC'].value_counts()\n",
    "\n",
    "# setting the size of plot treemap \n",
    "fig, ax = plt.subplots(figsize=(15, 10))\n",
    "\n",
    "\n",
    "# Plot the treemap \n",
    "squarify.plot(sizes=values_county.values, label=values_county.index, alpha=0.4)\n",
    "plt.title(\"Crashes in Maryland\")\n",
    "plt.tight_layout()\n",
    "plt.show()"
   ]
  },
  {
   "cell_type": "code",
   "execution_count": null,
   "id": "38247f8a",
   "metadata": {},
   "outputs": [],
   "source": []
  },
  {
   "cell_type": "code",
   "execution_count": null,
   "id": "76fe5e33",
   "metadata": {},
   "outputs": [],
   "source": []
  },
  {
   "cell_type": "code",
   "execution_count": null,
   "id": "92131025",
   "metadata": {},
   "outputs": [],
   "source": []
  },
  {
   "cell_type": "code",
   "execution_count": null,
   "id": "22cfb05f",
   "metadata": {},
   "outputs": [],
   "source": []
  },
  {
   "cell_type": "markdown",
   "id": "ac8d1368",
   "metadata": {},
   "source": [
    "## References: \n",
    "- https://seaborn.pydata.org/tutorial/color_palettes.html\n",
    "- https://www.trollingerlaw.com/car-accident-statistics/#:~:text=The%20most%20current%20car%20crash,county%20roads%20(23%20percent).\n",
    "- https://matplotlib.org/stable/tutorials/colors/colormaps.html\n",
    "- https://towardsdatascience.com/make-a-treemap-in-python-426cee6ee9b8"
   ]
  },
  {
   "cell_type": "code",
   "execution_count": null,
   "id": "0b712654",
   "metadata": {},
   "outputs": [],
   "source": []
  },
  {
   "cell_type": "code",
   "execution_count": null,
   "id": "c48c2901",
   "metadata": {},
   "outputs": [],
   "source": []
  }
 ],
 "metadata": {
  "kernelspec": {
   "display_name": "Python 3 (ipykernel)",
   "language": "python",
   "name": "python3"
  },
  "language_info": {
   "codemirror_mode": {
    "name": "ipython",
    "version": 3
   },
   "file_extension": ".py",
   "mimetype": "text/x-python",
   "name": "python",
   "nbconvert_exporter": "python",
   "pygments_lexer": "ipython3",
   "version": "3.9.13"
  }
 },
 "nbformat": 4,
 "nbformat_minor": 5
}
